{
 "cells": [
  {
   "cell_type": "markdown",
   "metadata": {},
   "source": [
    "# Exploratory Data Analysis"
   ]
  },
  {
   "cell_type": "markdown",
   "metadata": {},
   "source": [
    "## 3.1 Loading the libraries"
   ]
  },
  {
   "cell_type": "code",
   "execution_count": 1,
   "metadata": {},
   "outputs": [],
   "source": [
    "import pandas as pd\n",
    "import numpy as np\n",
    "import os\n",
    "import matplotlib.pyplot as plt\n",
    "import seaborn as sns\n",
    "from sklearn.decomposition import PCA\n",
    "from sklearn.preprocessing import scale\n",
    "import ppscore as pps\n",
    "from scipy.stats import ttest_ind\n",
    "import warnings\n",
    "warnings.filterwarnings(\"ignore\")"
   ]
  },
  {
   "cell_type": "markdown",
   "metadata": {},
   "source": [
    "#### 3.1.1 Load the data\n",
    "\n",
    "Loading the cleaned csv file from Data Wrangling step and getting to know the basic data types and columns"
   ]
  },
  {
   "cell_type": "code",
   "execution_count": 2,
   "metadata": {},
   "outputs": [],
   "source": [
    "df_or = pd.read_csv('../data/processed/onlineRetail_Cleaned.csv')"
   ]
  },
  {
   "cell_type": "code",
   "execution_count": 3,
   "metadata": {},
   "outputs": [
    {
     "name": "stdout",
     "output_type": "stream",
     "text": [
      "<class 'pandas.core.frame.DataFrame'>\n",
      "RangeIndex: 824293 entries, 0 to 824292\n",
      "Data columns (total 14 columns):\n",
      " #   Column       Non-Null Count   Dtype  \n",
      "---  ------       --------------   -----  \n",
      " 0   Invoice      824293 non-null  object \n",
      " 1   StockCode    824293 non-null  object \n",
      " 2   Description  824293 non-null  object \n",
      " 3   Quantity     824293 non-null  int64  \n",
      " 4   Price        824293 non-null  float64\n",
      " 5   Customer ID  824293 non-null  float64\n",
      " 6   Country      824293 non-null  object \n",
      " 7   Day_of_week  824293 non-null  object \n",
      " 8   Date         824293 non-null  object \n",
      " 9   Hour         824293 non-null  int64  \n",
      " 10  Month        824293 non-null  int64  \n",
      " 11  Year         824293 non-null  int64  \n",
      " 12  Day          824293 non-null  int64  \n",
      " 13  Weeknumber   824293 non-null  int64  \n",
      "dtypes: float64(2), int64(6), object(6)\n",
      "memory usage: 88.0+ MB\n"
     ]
    }
   ],
   "source": [
    "df_or.info()"
   ]
  },
  {
   "cell_type": "code",
   "execution_count": 4,
   "metadata": {},
   "outputs": [
    {
     "data": {
      "text/html": [
       "<div>\n",
       "<style scoped>\n",
       "    .dataframe tbody tr th:only-of-type {\n",
       "        vertical-align: middle;\n",
       "    }\n",
       "\n",
       "    .dataframe tbody tr th {\n",
       "        vertical-align: top;\n",
       "    }\n",
       "\n",
       "    .dataframe thead th {\n",
       "        text-align: right;\n",
       "    }\n",
       "</style>\n",
       "<table border=\"1\" class=\"dataframe\">\n",
       "  <thead>\n",
       "    <tr style=\"text-align: right;\">\n",
       "      <th></th>\n",
       "      <th>Invoice</th>\n",
       "      <th>StockCode</th>\n",
       "      <th>Description</th>\n",
       "      <th>Quantity</th>\n",
       "      <th>Price</th>\n",
       "      <th>Customer ID</th>\n",
       "      <th>Country</th>\n",
       "      <th>Day_of_week</th>\n",
       "      <th>Date</th>\n",
       "      <th>Hour</th>\n",
       "      <th>Month</th>\n",
       "      <th>Year</th>\n",
       "      <th>Day</th>\n",
       "      <th>Weeknumber</th>\n",
       "    </tr>\n",
       "  </thead>\n",
       "  <tbody>\n",
       "    <tr>\n",
       "      <th>0</th>\n",
       "      <td>489434</td>\n",
       "      <td>85048</td>\n",
       "      <td>15CM CHRISTMAS GLASS BALL 20 LIGHTS</td>\n",
       "      <td>12</td>\n",
       "      <td>6.95</td>\n",
       "      <td>13085.0</td>\n",
       "      <td>United Kingdom</td>\n",
       "      <td>Tuesday</td>\n",
       "      <td>2009-12-01</td>\n",
       "      <td>7</td>\n",
       "      <td>12</td>\n",
       "      <td>2009</td>\n",
       "      <td>1</td>\n",
       "      <td>49</td>\n",
       "    </tr>\n",
       "    <tr>\n",
       "      <th>1</th>\n",
       "      <td>489434</td>\n",
       "      <td>79323P</td>\n",
       "      <td>PINK CHERRY LIGHTS</td>\n",
       "      <td>12</td>\n",
       "      <td>6.75</td>\n",
       "      <td>13085.0</td>\n",
       "      <td>United Kingdom</td>\n",
       "      <td>Tuesday</td>\n",
       "      <td>2009-12-01</td>\n",
       "      <td>7</td>\n",
       "      <td>12</td>\n",
       "      <td>2009</td>\n",
       "      <td>1</td>\n",
       "      <td>49</td>\n",
       "    </tr>\n",
       "    <tr>\n",
       "      <th>2</th>\n",
       "      <td>489434</td>\n",
       "      <td>79323W</td>\n",
       "      <td>WHITE CHERRY LIGHTS</td>\n",
       "      <td>12</td>\n",
       "      <td>6.75</td>\n",
       "      <td>13085.0</td>\n",
       "      <td>United Kingdom</td>\n",
       "      <td>Tuesday</td>\n",
       "      <td>2009-12-01</td>\n",
       "      <td>7</td>\n",
       "      <td>12</td>\n",
       "      <td>2009</td>\n",
       "      <td>1</td>\n",
       "      <td>49</td>\n",
       "    </tr>\n",
       "    <tr>\n",
       "      <th>3</th>\n",
       "      <td>489434</td>\n",
       "      <td>22041</td>\n",
       "      <td>RECORD FRAME 7\" SINGLE SIZE</td>\n",
       "      <td>48</td>\n",
       "      <td>2.10</td>\n",
       "      <td>13085.0</td>\n",
       "      <td>United Kingdom</td>\n",
       "      <td>Tuesday</td>\n",
       "      <td>2009-12-01</td>\n",
       "      <td>7</td>\n",
       "      <td>12</td>\n",
       "      <td>2009</td>\n",
       "      <td>1</td>\n",
       "      <td>49</td>\n",
       "    </tr>\n",
       "    <tr>\n",
       "      <th>4</th>\n",
       "      <td>489434</td>\n",
       "      <td>21232</td>\n",
       "      <td>STRAWBERRY CERAMIC TRINKET BOX</td>\n",
       "      <td>24</td>\n",
       "      <td>1.25</td>\n",
       "      <td>13085.0</td>\n",
       "      <td>United Kingdom</td>\n",
       "      <td>Tuesday</td>\n",
       "      <td>2009-12-01</td>\n",
       "      <td>7</td>\n",
       "      <td>12</td>\n",
       "      <td>2009</td>\n",
       "      <td>1</td>\n",
       "      <td>49</td>\n",
       "    </tr>\n",
       "  </tbody>\n",
       "</table>\n",
       "</div>"
      ],
      "text/plain": [
       "  Invoice StockCode                          Description  Quantity  Price  \\\n",
       "0  489434     85048  15CM CHRISTMAS GLASS BALL 20 LIGHTS        12   6.95   \n",
       "1  489434    79323P                   PINK CHERRY LIGHTS        12   6.75   \n",
       "2  489434    79323W                  WHITE CHERRY LIGHTS        12   6.75   \n",
       "3  489434     22041         RECORD FRAME 7\" SINGLE SIZE         48   2.10   \n",
       "4  489434     21232       STRAWBERRY CERAMIC TRINKET BOX        24   1.25   \n",
       "\n",
       "   Customer ID         Country Day_of_week        Date  Hour  Month  Year  \\\n",
       "0      13085.0  United Kingdom     Tuesday  2009-12-01     7     12  2009   \n",
       "1      13085.0  United Kingdom     Tuesday  2009-12-01     7     12  2009   \n",
       "2      13085.0  United Kingdom     Tuesday  2009-12-01     7     12  2009   \n",
       "3      13085.0  United Kingdom     Tuesday  2009-12-01     7     12  2009   \n",
       "4      13085.0  United Kingdom     Tuesday  2009-12-01     7     12  2009   \n",
       "\n",
       "   Day  Weeknumber  \n",
       "0    1          49  \n",
       "1    1          49  \n",
       "2    1          49  \n",
       "3    1          49  \n",
       "4    1          49  "
      ]
     },
     "execution_count": 4,
     "metadata": {},
     "output_type": "execute_result"
    }
   ],
   "source": [
    "df_or.head()"
   ]
  },
  {
   "cell_type": "code",
   "execution_count": 5,
   "metadata": {},
   "outputs": [],
   "source": [
    "#Updating the column name for the customer and assigning an appropriate data type\n",
    "df_or.rename(columns={'Customer ID':'Customer_Id'},inplace = True)\n",
    "df_or.Customer_Id =  df_or.Customer_Id.astype(int)"
   ]
  },
  {
   "cell_type": "code",
   "execution_count": 6,
   "metadata": {},
   "outputs": [
    {
     "name": "stdout",
     "output_type": "stream",
     "text": [
      "Non UK ordesr - (81746,)\n"
     ]
    },
    {
     "data": {
      "text/html": [
       "<div>\n",
       "<style scoped>\n",
       "    .dataframe tbody tr th:only-of-type {\n",
       "        vertical-align: middle;\n",
       "    }\n",
       "\n",
       "    .dataframe tbody tr th {\n",
       "        vertical-align: top;\n",
       "    }\n",
       "\n",
       "    .dataframe thead th {\n",
       "        text-align: right;\n",
       "    }\n",
       "</style>\n",
       "<table border=\"1\" class=\"dataframe\">\n",
       "  <thead>\n",
       "    <tr style=\"text-align: right;\">\n",
       "      <th></th>\n",
       "      <th>Invoice</th>\n",
       "      <th>StockCode</th>\n",
       "      <th>Description</th>\n",
       "      <th>Quantity</th>\n",
       "      <th>Price</th>\n",
       "      <th>Customer_Id</th>\n",
       "      <th>Country</th>\n",
       "      <th>Day_of_week</th>\n",
       "      <th>Date</th>\n",
       "      <th>Hour</th>\n",
       "      <th>Month</th>\n",
       "      <th>Year</th>\n",
       "      <th>Day</th>\n",
       "      <th>Weeknumber</th>\n",
       "    </tr>\n",
       "  </thead>\n",
       "  <tbody>\n",
       "    <tr>\n",
       "      <th>71</th>\n",
       "      <td>489439</td>\n",
       "      <td>22065</td>\n",
       "      <td>CHRISTMAS PUDDING TRINKET POT</td>\n",
       "      <td>12</td>\n",
       "      <td>1.45</td>\n",
       "      <td>12682</td>\n",
       "      <td>France</td>\n",
       "      <td>Tuesday</td>\n",
       "      <td>2009-12-01</td>\n",
       "      <td>9</td>\n",
       "      <td>12</td>\n",
       "      <td>2009</td>\n",
       "      <td>1</td>\n",
       "      <td>49</td>\n",
       "    </tr>\n",
       "    <tr>\n",
       "      <th>72</th>\n",
       "      <td>489439</td>\n",
       "      <td>22138</td>\n",
       "      <td>BAKING SET 9 PIECE RETROSPOT</td>\n",
       "      <td>9</td>\n",
       "      <td>4.95</td>\n",
       "      <td>12682</td>\n",
       "      <td>France</td>\n",
       "      <td>Tuesday</td>\n",
       "      <td>2009-12-01</td>\n",
       "      <td>9</td>\n",
       "      <td>12</td>\n",
       "      <td>2009</td>\n",
       "      <td>1</td>\n",
       "      <td>49</td>\n",
       "    </tr>\n",
       "    <tr>\n",
       "      <th>73</th>\n",
       "      <td>489439</td>\n",
       "      <td>22139</td>\n",
       "      <td>RETRO SPOT TEA SET CERAMIC 11 PC</td>\n",
       "      <td>9</td>\n",
       "      <td>4.95</td>\n",
       "      <td>12682</td>\n",
       "      <td>France</td>\n",
       "      <td>Tuesday</td>\n",
       "      <td>2009-12-01</td>\n",
       "      <td>9</td>\n",
       "      <td>12</td>\n",
       "      <td>2009</td>\n",
       "      <td>1</td>\n",
       "      <td>49</td>\n",
       "    </tr>\n",
       "    <tr>\n",
       "      <th>74</th>\n",
       "      <td>489439</td>\n",
       "      <td>22352</td>\n",
       "      <td>LUNCHBOX WITH CUTLERY RETROSPOT</td>\n",
       "      <td>12</td>\n",
       "      <td>2.55</td>\n",
       "      <td>12682</td>\n",
       "      <td>France</td>\n",
       "      <td>Tuesday</td>\n",
       "      <td>2009-12-01</td>\n",
       "      <td>9</td>\n",
       "      <td>12</td>\n",
       "      <td>2009</td>\n",
       "      <td>1</td>\n",
       "      <td>49</td>\n",
       "    </tr>\n",
       "    <tr>\n",
       "      <th>75</th>\n",
       "      <td>489439</td>\n",
       "      <td>85014A</td>\n",
       "      <td>BLACK/BLUE DOTS RUFFLED UMBRELLA</td>\n",
       "      <td>3</td>\n",
       "      <td>5.95</td>\n",
       "      <td>12682</td>\n",
       "      <td>France</td>\n",
       "      <td>Tuesday</td>\n",
       "      <td>2009-12-01</td>\n",
       "      <td>9</td>\n",
       "      <td>12</td>\n",
       "      <td>2009</td>\n",
       "      <td>1</td>\n",
       "      <td>49</td>\n",
       "    </tr>\n",
       "  </tbody>\n",
       "</table>\n",
       "</div>"
      ],
      "text/plain": [
       "   Invoice StockCode                        Description  Quantity  Price  \\\n",
       "71  489439     22065     CHRISTMAS PUDDING TRINKET POT         12   1.45   \n",
       "72  489439     22138      BAKING SET 9 PIECE RETROSPOT          9   4.95   \n",
       "73  489439     22139  RETRO SPOT TEA SET CERAMIC 11 PC          9   4.95   \n",
       "74  489439     22352   LUNCHBOX WITH CUTLERY RETROSPOT         12   2.55   \n",
       "75  489439    85014A   BLACK/BLUE DOTS RUFFLED UMBRELLA         3   5.95   \n",
       "\n",
       "    Customer_Id Country Day_of_week        Date  Hour  Month  Year  Day  \\\n",
       "71        12682  France     Tuesday  2009-12-01     9     12  2009    1   \n",
       "72        12682  France     Tuesday  2009-12-01     9     12  2009    1   \n",
       "73        12682  France     Tuesday  2009-12-01     9     12  2009    1   \n",
       "74        12682  France     Tuesday  2009-12-01     9     12  2009    1   \n",
       "75        12682  France     Tuesday  2009-12-01     9     12  2009    1   \n",
       "\n",
       "    Weeknumber  \n",
       "71          49  \n",
       "72          49  \n",
       "73          49  \n",
       "74          49  \n",
       "75          49  "
      ]
     },
     "execution_count": 6,
     "metadata": {},
     "output_type": "execute_result"
    }
   ],
   "source": [
    "# Restricting only UK orders \n",
    "non_uk_orders  = df_or[df_or['Country'] != 'United Kingdom'].value_counts()\n",
    "print(\"Non UK ordesr - {}\".format(non_uk_orders.shape))\n",
    "df_or = df_or[df_or['Country'] != 'United Kingdom']\n",
    "df_or.head()"
   ]
  },
  {
   "cell_type": "markdown",
   "metadata": {},
   "source": [
    "#### 3.1.2 Finding different insights \n",
    "\n",
    "Finding total number of distinct products on sale"
   ]
  },
  {
   "cell_type": "code",
   "execution_count": 7,
   "metadata": {},
   "outputs": [
    {
     "data": {
      "text/plain": [
       "3675"
      ]
     },
     "execution_count": 7,
     "metadata": {},
     "output_type": "execute_result"
    }
   ],
   "source": [
    "df_or.StockCode.nunique()"
   ]
  },
  {
   "cell_type": "markdown",
   "metadata": {},
   "source": [
    "There are ~4631 unique products that are being sold by the online retail store in United Kingdom.\n"
   ]
  },
  {
   "cell_type": "markdown",
   "metadata": {},
   "source": [
    "Number of orders that have quantity less than 0. We can see that they are directly related to the order being cancelled. There are 16005 orders that have been cancelled."
   ]
  },
  {
   "cell_type": "code",
   "execution_count": 8,
   "metadata": {},
   "outputs": [
    {
     "data": {
      "text/plain": [
       "(2739, 14)"
      ]
     },
     "execution_count": 8,
     "metadata": {},
     "output_type": "execute_result"
    }
   ],
   "source": [
    "neg_qty_df = df_or[(df_or.Quantity < 0)]\n",
    "neg_qty_df.shape"
   ]
  },
  {
   "cell_type": "code",
   "execution_count": 9,
   "metadata": {},
   "outputs": [
    {
     "data": {
      "text/html": [
       "<div>\n",
       "<style scoped>\n",
       "    .dataframe tbody tr th:only-of-type {\n",
       "        vertical-align: middle;\n",
       "    }\n",
       "\n",
       "    .dataframe tbody tr th {\n",
       "        vertical-align: top;\n",
       "    }\n",
       "\n",
       "    .dataframe thead th {\n",
       "        text-align: right;\n",
       "    }\n",
       "</style>\n",
       "<table border=\"1\" class=\"dataframe\">\n",
       "  <thead>\n",
       "    <tr style=\"text-align: right;\">\n",
       "      <th></th>\n",
       "      <th>StockCode</th>\n",
       "      <th>counts</th>\n",
       "    </tr>\n",
       "  </thead>\n",
       "  <tbody>\n",
       "    <tr>\n",
       "      <th>3674</th>\n",
       "      <td>POST</td>\n",
       "      <td>1873</td>\n",
       "    </tr>\n",
       "    <tr>\n",
       "      <th>1356</th>\n",
       "      <td>22326</td>\n",
       "      <td>535</td>\n",
       "    </tr>\n",
       "    <tr>\n",
       "      <th>1442</th>\n",
       "      <td>22423</td>\n",
       "      <td>530</td>\n",
       "    </tr>\n",
       "    <tr>\n",
       "      <th>486</th>\n",
       "      <td>21212</td>\n",
       "      <td>406</td>\n",
       "    </tr>\n",
       "    <tr>\n",
       "      <th>876</th>\n",
       "      <td>21731</td>\n",
       "      <td>394</td>\n",
       "    </tr>\n",
       "    <tr>\n",
       "      <th>...</th>\n",
       "      <td>...</td>\n",
       "      <td>...</td>\n",
       "    </tr>\n",
       "    <tr>\n",
       "      <th>3207</th>\n",
       "      <td>84907</td>\n",
       "      <td>1</td>\n",
       "    </tr>\n",
       "    <tr>\n",
       "      <th>3208</th>\n",
       "      <td>84909A</td>\n",
       "      <td>1</td>\n",
       "    </tr>\n",
       "    <tr>\n",
       "      <th>3209</th>\n",
       "      <td>84910A</td>\n",
       "      <td>1</td>\n",
       "    </tr>\n",
       "    <tr>\n",
       "      <th>288</th>\n",
       "      <td>20906</td>\n",
       "      <td>1</td>\n",
       "    </tr>\n",
       "    <tr>\n",
       "      <th>293</th>\n",
       "      <td>20933</td>\n",
       "      <td>1</td>\n",
       "    </tr>\n",
       "  </tbody>\n",
       "</table>\n",
       "<p>3675 rows × 2 columns</p>\n",
       "</div>"
      ],
      "text/plain": [
       "     StockCode  counts\n",
       "3674      POST    1873\n",
       "1356     22326     535\n",
       "1442     22423     530\n",
       "486      21212     406\n",
       "876      21731     394\n",
       "...        ...     ...\n",
       "3207     84907       1\n",
       "3208    84909A       1\n",
       "3209    84910A       1\n",
       "288      20906       1\n",
       "293      20933       1\n",
       "\n",
       "[3675 rows x 2 columns]"
      ]
     },
     "execution_count": 9,
     "metadata": {},
     "output_type": "execute_result"
    }
   ],
   "source": [
    "#Sorting the stock codes from highest to lowest\n",
    "Stock_counts = df_or.groupby(by='StockCode').size().reset_index(name='counts')\n",
    "Stock_counts.sort_values(by='counts', ascending=False)"
   ]
  },
  {
   "cell_type": "markdown",
   "metadata": {},
   "source": [
    "We are going to find the costliest and the cheapest products that are being sold.\n",
    "\n",
    "Going forward we are going to use the dataframe that is excluding the Cancelled orders"
   ]
  },
  {
   "cell_type": "code",
   "execution_count": 10,
   "metadata": {},
   "outputs": [
    {
     "data": {
      "text/html": [
       "<div>\n",
       "<style scoped>\n",
       "    .dataframe tbody tr th:only-of-type {\n",
       "        vertical-align: middle;\n",
       "    }\n",
       "\n",
       "    .dataframe tbody tr th {\n",
       "        vertical-align: top;\n",
       "    }\n",
       "\n",
       "    .dataframe thead th {\n",
       "        text-align: right;\n",
       "    }\n",
       "</style>\n",
       "<table border=\"1\" class=\"dataframe\">\n",
       "  <thead>\n",
       "    <tr style=\"text-align: right;\">\n",
       "      <th></th>\n",
       "      <th>Invoice</th>\n",
       "      <th>StockCode</th>\n",
       "      <th>Description</th>\n",
       "      <th>Quantity</th>\n",
       "      <th>Price</th>\n",
       "      <th>Customer_Id</th>\n",
       "      <th>Country</th>\n",
       "      <th>Day_of_week</th>\n",
       "      <th>Date</th>\n",
       "      <th>Hour</th>\n",
       "      <th>Month</th>\n",
       "      <th>Year</th>\n",
       "      <th>Day</th>\n",
       "      <th>Weeknumber</th>\n",
       "    </tr>\n",
       "  </thead>\n",
       "  <tbody>\n",
       "    <tr>\n",
       "      <th>96822</th>\n",
       "      <td>501768</td>\n",
       "      <td>M</td>\n",
       "      <td>Manual</td>\n",
       "      <td>1</td>\n",
       "      <td>6958.17</td>\n",
       "      <td>15760</td>\n",
       "      <td>Norway</td>\n",
       "      <td>Friday</td>\n",
       "      <td>2010-03-19</td>\n",
       "      <td>11</td>\n",
       "      <td>3</td>\n",
       "      <td>2010</td>\n",
       "      <td>19</td>\n",
       "      <td>11</td>\n",
       "    </tr>\n",
       "    <tr>\n",
       "      <th>96738</th>\n",
       "      <td>501766</td>\n",
       "      <td>M</td>\n",
       "      <td>Manual</td>\n",
       "      <td>1</td>\n",
       "      <td>6958.17</td>\n",
       "      <td>15760</td>\n",
       "      <td>Norway</td>\n",
       "      <td>Friday</td>\n",
       "      <td>2010-03-19</td>\n",
       "      <td>11</td>\n",
       "      <td>3</td>\n",
       "      <td>2010</td>\n",
       "      <td>19</td>\n",
       "      <td>11</td>\n",
       "    </tr>\n",
       "    <tr>\n",
       "      <th>733760</th>\n",
       "      <td>573080</td>\n",
       "      <td>M</td>\n",
       "      <td>Manual</td>\n",
       "      <td>1</td>\n",
       "      <td>4161.06</td>\n",
       "      <td>12536</td>\n",
       "      <td>France</td>\n",
       "      <td>Thursday</td>\n",
       "      <td>2011-10-27</td>\n",
       "      <td>14</td>\n",
       "      <td>10</td>\n",
       "      <td>2011</td>\n",
       "      <td>27</td>\n",
       "      <td>43</td>\n",
       "    </tr>\n",
       "    <tr>\n",
       "      <th>733757</th>\n",
       "      <td>573077</td>\n",
       "      <td>M</td>\n",
       "      <td>Manual</td>\n",
       "      <td>1</td>\n",
       "      <td>4161.06</td>\n",
       "      <td>12536</td>\n",
       "      <td>France</td>\n",
       "      <td>Thursday</td>\n",
       "      <td>2011-10-27</td>\n",
       "      <td>14</td>\n",
       "      <td>10</td>\n",
       "      <td>2011</td>\n",
       "      <td>27</td>\n",
       "      <td>43</td>\n",
       "    </tr>\n",
       "    <tr>\n",
       "      <th>719911</th>\n",
       "      <td>571751</td>\n",
       "      <td>M</td>\n",
       "      <td>Manual</td>\n",
       "      <td>1</td>\n",
       "      <td>3949.32</td>\n",
       "      <td>12744</td>\n",
       "      <td>Singapore</td>\n",
       "      <td>Wednesday</td>\n",
       "      <td>2011-10-19</td>\n",
       "      <td>11</td>\n",
       "      <td>10</td>\n",
       "      <td>2011</td>\n",
       "      <td>19</td>\n",
       "      <td>42</td>\n",
       "    </tr>\n",
       "  </tbody>\n",
       "</table>\n",
       "</div>"
      ],
      "text/plain": [
       "       Invoice StockCode Description  Quantity    Price  Customer_Id  \\\n",
       "96822   501768         M      Manual         1  6958.17        15760   \n",
       "96738   501766         M      Manual         1  6958.17        15760   \n",
       "733760  573080         M      Manual         1  4161.06        12536   \n",
       "733757  573077         M      Manual         1  4161.06        12536   \n",
       "719911  571751         M      Manual         1  3949.32        12744   \n",
       "\n",
       "          Country Day_of_week        Date  Hour  Month  Year  Day  Weeknumber  \n",
       "96822      Norway      Friday  2010-03-19    11      3  2010   19          11  \n",
       "96738      Norway      Friday  2010-03-19    11      3  2010   19          11  \n",
       "733760     France    Thursday  2011-10-27    14     10  2011   27          43  \n",
       "733757     France    Thursday  2011-10-27    14     10  2011   27          43  \n",
       "719911  Singapore   Wednesday  2011-10-19    11     10  2011   19          42  "
      ]
     },
     "execution_count": 10,
     "metadata": {},
     "output_type": "execute_result"
    }
   ],
   "source": [
    "df_or[df_or.Quantity > 0].sort_values(by='Price',ascending=False).head()"
   ]
  },
  {
   "cell_type": "code",
   "execution_count": 11,
   "metadata": {},
   "outputs": [
    {
     "data": {
      "text/html": [
       "<div>\n",
       "<style scoped>\n",
       "    .dataframe tbody tr th:only-of-type {\n",
       "        vertical-align: middle;\n",
       "    }\n",
       "\n",
       "    .dataframe tbody tr th {\n",
       "        vertical-align: top;\n",
       "    }\n",
       "\n",
       "    .dataframe thead th {\n",
       "        text-align: right;\n",
       "    }\n",
       "</style>\n",
       "<table border=\"1\" class=\"dataframe\">\n",
       "  <thead>\n",
       "    <tr style=\"text-align: right;\">\n",
       "      <th></th>\n",
       "      <th>Invoice</th>\n",
       "      <th>StockCode</th>\n",
       "      <th>Description</th>\n",
       "      <th>Quantity</th>\n",
       "      <th>Price</th>\n",
       "      <th>Customer_Id</th>\n",
       "      <th>Country</th>\n",
       "      <th>Day_of_week</th>\n",
       "      <th>Date</th>\n",
       "      <th>Hour</th>\n",
       "      <th>Month</th>\n",
       "      <th>Year</th>\n",
       "      <th>Day</th>\n",
       "      <th>Weeknumber</th>\n",
       "    </tr>\n",
       "  </thead>\n",
       "  <tbody>\n",
       "  </tbody>\n",
       "</table>\n",
       "</div>"
      ],
      "text/plain": [
       "Empty DataFrame\n",
       "Columns: [Invoice, StockCode, Description, Quantity, Price, Customer_Id, Country, Day_of_week, Date, Hour, Month, Year, Day, Weeknumber]\n",
       "Index: []"
      ]
     },
     "execution_count": 11,
     "metadata": {},
     "output_type": "execute_result"
    }
   ],
   "source": [
    "df_or[df_or['Customer_Id'] == 15098.0]"
   ]
  },
  {
   "cell_type": "code",
   "execution_count": 12,
   "metadata": {},
   "outputs": [],
   "source": [
    "non_cancelled_Df = df_or[df_or.Quantity > 0]"
   ]
  },
  {
   "cell_type": "code",
   "execution_count": 13,
   "metadata": {},
   "outputs": [
    {
     "data": {
      "text/html": [
       "<div>\n",
       "<style scoped>\n",
       "    .dataframe tbody tr th:only-of-type {\n",
       "        vertical-align: middle;\n",
       "    }\n",
       "\n",
       "    .dataframe tbody tr th {\n",
       "        vertical-align: top;\n",
       "    }\n",
       "\n",
       "    .dataframe thead th {\n",
       "        text-align: right;\n",
       "    }\n",
       "</style>\n",
       "<table border=\"1\" class=\"dataframe\">\n",
       "  <thead>\n",
       "    <tr style=\"text-align: right;\">\n",
       "      <th></th>\n",
       "      <th>Invoice</th>\n",
       "      <th>StockCode</th>\n",
       "      <th>Description</th>\n",
       "      <th>Quantity</th>\n",
       "      <th>Price</th>\n",
       "      <th>Customer_Id</th>\n",
       "      <th>Country</th>\n",
       "      <th>Day_of_week</th>\n",
       "      <th>Date</th>\n",
       "      <th>Hour</th>\n",
       "      <th>Month</th>\n",
       "      <th>Year</th>\n",
       "      <th>Day</th>\n",
       "      <th>Weeknumber</th>\n",
       "    </tr>\n",
       "  </thead>\n",
       "  <tbody>\n",
       "    <tr>\n",
       "      <th>118846</th>\n",
       "      <td>504332</td>\n",
       "      <td>PADS</td>\n",
       "      <td>PADS TO MATCH ALL CUSHIONS</td>\n",
       "      <td>1</td>\n",
       "      <td>0.001</td>\n",
       "      <td>12671</td>\n",
       "      <td>Germany</td>\n",
       "      <td>Monday</td>\n",
       "      <td>2010-04-12</td>\n",
       "      <td>16</td>\n",
       "      <td>4</td>\n",
       "      <td>2010</td>\n",
       "      <td>12</td>\n",
       "      <td>15</td>\n",
       "    </tr>\n",
       "  </tbody>\n",
       "</table>\n",
       "</div>"
      ],
      "text/plain": [
       "       Invoice StockCode                 Description  Quantity  Price  \\\n",
       "118846  504332      PADS  PADS TO MATCH ALL CUSHIONS         1  0.001   \n",
       "\n",
       "        Customer_Id  Country Day_of_week        Date  Hour  Month  Year  Day  \\\n",
       "118846        12671  Germany      Monday  2010-04-12    16      4  2010   12   \n",
       "\n",
       "        Weeknumber  \n",
       "118846          15  "
      ]
     },
     "execution_count": 13,
     "metadata": {},
     "output_type": "execute_result"
    }
   ],
   "source": [
    "non_cancelled_Df[non_cancelled_Df.Price == df_or.Price.min()]"
   ]
  },
  {
   "cell_type": "markdown",
   "metadata": {},
   "source": [
    "## 3.2 Further Exploration of the data"
   ]
  },
  {
   "cell_type": "markdown",
   "metadata": {},
   "source": [
    "### 3.2.1 Finding Sales pattern\n",
    "\n",
    "Inorder to do so we are going to do the following\n",
    "* Find the total sales amounts for different days of the week, weeknumber and also on month bases\n",
    "* Find the months where the most items are sold"
   ]
  },
  {
   "cell_type": "markdown",
   "metadata": {},
   "source": [
    "#### 3.2.1 Total Sales amount on different time frames"
   ]
  },
  {
   "cell_type": "code",
   "execution_count": 14,
   "metadata": {},
   "outputs": [],
   "source": [
    "#Total cart bill\n",
    "non_cancelled_Df['Price_Total'] = non_cancelled_Df['Price'] * non_cancelled_Df['Quantity']"
   ]
  },
  {
   "cell_type": "code",
   "execution_count": 15,
   "metadata": {},
   "outputs": [
    {
     "data": {
      "text/html": [
       "<div>\n",
       "<style scoped>\n",
       "    .dataframe tbody tr th:only-of-type {\n",
       "        vertical-align: middle;\n",
       "    }\n",
       "\n",
       "    .dataframe tbody tr th {\n",
       "        vertical-align: top;\n",
       "    }\n",
       "\n",
       "    .dataframe thead th {\n",
       "        text-align: right;\n",
       "    }\n",
       "</style>\n",
       "<table border=\"1\" class=\"dataframe\">\n",
       "  <thead>\n",
       "    <tr style=\"text-align: right;\">\n",
       "      <th></th>\n",
       "      <th>Day_of_week</th>\n",
       "      <th>Price_Total</th>\n",
       "    </tr>\n",
       "  </thead>\n",
       "  <tbody>\n",
       "    <tr>\n",
       "      <th>4</th>\n",
       "      <td>Thursday</td>\n",
       "      <td>701306.680</td>\n",
       "    </tr>\n",
       "    <tr>\n",
       "      <th>6</th>\n",
       "      <td>Wednesday</td>\n",
       "      <td>571716.880</td>\n",
       "    </tr>\n",
       "    <tr>\n",
       "      <th>5</th>\n",
       "      <td>Tuesday</td>\n",
       "      <td>536295.710</td>\n",
       "    </tr>\n",
       "    <tr>\n",
       "      <th>0</th>\n",
       "      <td>Friday</td>\n",
       "      <td>529851.830</td>\n",
       "    </tr>\n",
       "    <tr>\n",
       "      <th>1</th>\n",
       "      <td>Monday</td>\n",
       "      <td>477243.741</td>\n",
       "    </tr>\n",
       "    <tr>\n",
       "      <th>3</th>\n",
       "      <td>Sunday</td>\n",
       "      <td>203106.130</td>\n",
       "    </tr>\n",
       "    <tr>\n",
       "      <th>2</th>\n",
       "      <td>Saturday</td>\n",
       "      <td>760.690</td>\n",
       "    </tr>\n",
       "  </tbody>\n",
       "</table>\n",
       "</div>"
      ],
      "text/plain": [
       "  Day_of_week  Price_Total\n",
       "4    Thursday   701306.680\n",
       "6   Wednesday   571716.880\n",
       "5     Tuesday   536295.710\n",
       "0      Friday   529851.830\n",
       "1      Monday   477243.741\n",
       "3      Sunday   203106.130\n",
       "2    Saturday      760.690"
      ]
     },
     "execution_count": 15,
     "metadata": {},
     "output_type": "execute_result"
    }
   ],
   "source": [
    "weekday_sales_df = non_cancelled_Df.groupby(by='Day_of_week')['Price_Total'].sum().reset_index()\n",
    "weekday_sales_df.sort_values(by='Price_Total',ascending=False)"
   ]
  },
  {
   "cell_type": "code",
   "execution_count": 16,
   "metadata": {},
   "outputs": [
    {
     "data": {
      "image/png": "[encoded data removed]",
      "text/plain": [
       "<Figure size 720x432 with 1 Axes>"
      ]
     },
     "metadata": {
      "needs_background": "light"
     },
     "output_type": "display_data"
    }
   ],
   "source": [
    "plt.subplots(figsize=(10, 6))\n",
    "sns.barplot(x='Day_of_week',y='Price_Total',data=weekday_sales_df)\n",
    "plt.xlabel('WeekDay')\n",
    "plt.ylabel('Sales')\n",
    "plt.title('Total collection per day')\n",
    "plt.show()"
   ]
  },
  {
   "cell_type": "code",
   "execution_count": 17,
   "metadata": {},
   "outputs": [
    {
     "data": {
      "text/html": [
       "<div>\n",
       "<style scoped>\n",
       "    .dataframe tbody tr th:only-of-type {\n",
       "        vertical-align: middle;\n",
       "    }\n",
       "\n",
       "    .dataframe tbody tr th {\n",
       "        vertical-align: top;\n",
       "    }\n",
       "\n",
       "    .dataframe thead th {\n",
       "        text-align: right;\n",
       "    }\n",
       "</style>\n",
       "<table border=\"1\" class=\"dataframe\">\n",
       "  <thead>\n",
       "    <tr style=\"text-align: right;\">\n",
       "      <th></th>\n",
       "      <th>Weeknumber</th>\n",
       "      <th>Price_Total</th>\n",
       "    </tr>\n",
       "  </thead>\n",
       "  <tbody>\n",
       "    <tr>\n",
       "      <th>0</th>\n",
       "      <td>1</td>\n",
       "      <td>73153.82</td>\n",
       "    </tr>\n",
       "    <tr>\n",
       "      <th>1</th>\n",
       "      <td>2</td>\n",
       "      <td>59731.11</td>\n",
       "    </tr>\n",
       "    <tr>\n",
       "      <th>2</th>\n",
       "      <td>3</td>\n",
       "      <td>71511.15</td>\n",
       "    </tr>\n",
       "    <tr>\n",
       "      <th>3</th>\n",
       "      <td>4</td>\n",
       "      <td>57484.06</td>\n",
       "    </tr>\n",
       "    <tr>\n",
       "      <th>4</th>\n",
       "      <td>5</td>\n",
       "      <td>33676.91</td>\n",
       "    </tr>\n",
       "  </tbody>\n",
       "</table>\n",
       "</div>"
      ],
      "text/plain": [
       "   Weeknumber  Price_Total\n",
       "0           1     73153.82\n",
       "1           2     59731.11\n",
       "2           3     71511.15\n",
       "3           4     57484.06\n",
       "4           5     33676.91"
      ]
     },
     "execution_count": 17,
     "metadata": {},
     "output_type": "execute_result"
    }
   ],
   "source": [
    "weekly_sales_df = non_cancelled_Df.groupby(by='Weeknumber')['Price_Total'].sum().reset_index()\n",
    "weekly_sales_df.head()"
   ]
  },
  {
   "cell_type": "code",
   "execution_count": 18,
   "metadata": {},
   "outputs": [
    {
     "data": {
      "image/png": "[encoded data removed]",
      "text/plain": [
       "<Figure size 432x288 with 1 Axes>"
      ]
     },
     "metadata": {
      "needs_background": "light"
     },
     "output_type": "display_data"
    }
   ],
   "source": [
    "sns.scatterplot(x='Weeknumber',y='Price_Total',data = weekly_sales_df)\n",
    "plt.xlabel('Week Number')\n",
    "plt.ylabel('Total Price')\n",
    "plt.title('Total sales in a Week')\n",
    "plt.show()"
   ]
  },
  {
   "cell_type": "markdown",
   "metadata": {},
   "source": [
    "#### 3.2.2 Total number of items ordered on different time frames"
   ]
  },
  {
   "cell_type": "code",
   "execution_count": 19,
   "metadata": {},
   "outputs": [
    {
     "data": {
      "text/html": [
       "<div>\n",
       "<style scoped>\n",
       "    .dataframe tbody tr th:only-of-type {\n",
       "        vertical-align: middle;\n",
       "    }\n",
       "\n",
       "    .dataframe tbody tr th {\n",
       "        vertical-align: top;\n",
       "    }\n",
       "\n",
       "    .dataframe thead th {\n",
       "        text-align: right;\n",
       "    }\n",
       "</style>\n",
       "<table border=\"1\" class=\"dataframe\">\n",
       "  <thead>\n",
       "    <tr style=\"text-align: right;\">\n",
       "      <th></th>\n",
       "      <th>Month</th>\n",
       "      <th>Counts</th>\n",
       "    </tr>\n",
       "  </thead>\n",
       "  <tbody>\n",
       "    <tr>\n",
       "      <th>0</th>\n",
       "      <td>1</td>\n",
       "      <td>5277</td>\n",
       "    </tr>\n",
       "    <tr>\n",
       "      <th>1</th>\n",
       "      <td>2</td>\n",
       "      <td>4192</td>\n",
       "    </tr>\n",
       "    <tr>\n",
       "      <th>2</th>\n",
       "      <td>3</td>\n",
       "      <td>5698</td>\n",
       "    </tr>\n",
       "    <tr>\n",
       "      <th>3</th>\n",
       "      <td>4</td>\n",
       "      <td>4164</td>\n",
       "    </tr>\n",
       "    <tr>\n",
       "      <th>4</th>\n",
       "      <td>5</td>\n",
       "      <td>5954</td>\n",
       "    </tr>\n",
       "    <tr>\n",
       "      <th>5</th>\n",
       "      <td>6</td>\n",
       "      <td>6223</td>\n",
       "    </tr>\n",
       "    <tr>\n",
       "      <th>6</th>\n",
       "      <td>7</td>\n",
       "      <td>5778</td>\n",
       "    </tr>\n",
       "    <tr>\n",
       "      <th>7</th>\n",
       "      <td>8</td>\n",
       "      <td>6210</td>\n",
       "    </tr>\n",
       "    <tr>\n",
       "      <th>8</th>\n",
       "      <td>9</td>\n",
       "      <td>8399</td>\n",
       "    </tr>\n",
       "    <tr>\n",
       "      <th>9</th>\n",
       "      <td>10</td>\n",
       "      <td>10600</td>\n",
       "    </tr>\n",
       "    <tr>\n",
       "      <th>10</th>\n",
       "      <td>11</td>\n",
       "      <td>10801</td>\n",
       "    </tr>\n",
       "    <tr>\n",
       "      <th>11</th>\n",
       "      <td>12</td>\n",
       "      <td>7003</td>\n",
       "    </tr>\n",
       "  </tbody>\n",
       "</table>\n",
       "</div>"
      ],
      "text/plain": [
       "    Month  Counts\n",
       "0       1    5277\n",
       "1       2    4192\n",
       "2       3    5698\n",
       "3       4    4164\n",
       "4       5    5954\n",
       "5       6    6223\n",
       "6       7    5778\n",
       "7       8    6210\n",
       "8       9    8399\n",
       "9      10   10600\n",
       "10     11   10801\n",
       "11     12    7003"
      ]
     },
     "execution_count": 19,
     "metadata": {},
     "output_type": "execute_result"
    }
   ],
   "source": [
    "month_orders = non_cancelled_Df.groupby(by='Month')['Invoice'].count().reset_index(name='Counts')\n",
    "month_orders\n"
   ]
  },
  {
   "cell_type": "code",
   "execution_count": 20,
   "metadata": {},
   "outputs": [
    {
     "data": {
      "image/png": "[encoded data removed]",
      "text/plain": [
       "<Figure size 432x288 with 1 Axes>"
      ]
     },
     "metadata": {
      "needs_background": "light"
     },
     "output_type": "display_data"
    }
   ],
   "source": [
    "sns.barplot(x='Month',y='Counts',data=month_orders)\n",
    "plt.xlabel('Month')\n",
    "plt.ylabel('# of Items')\n",
    "plt.title('Items Ordered vs Month')\n",
    "plt.show()"
   ]
  },
  {
   "cell_type": "code",
   "execution_count": 21,
   "metadata": {},
   "outputs": [
    {
     "data": {
      "text/html": [
       "<div>\n",
       "<style scoped>\n",
       "    .dataframe tbody tr th:only-of-type {\n",
       "        vertical-align: middle;\n",
       "    }\n",
       "\n",
       "    .dataframe tbody tr th {\n",
       "        vertical-align: top;\n",
       "    }\n",
       "\n",
       "    .dataframe thead th {\n",
       "        text-align: right;\n",
       "    }\n",
       "</style>\n",
       "<table border=\"1\" class=\"dataframe\">\n",
       "  <thead>\n",
       "    <tr style=\"text-align: right;\">\n",
       "      <th></th>\n",
       "      <th>Day_of_week</th>\n",
       "      <th>Counts</th>\n",
       "    </tr>\n",
       "  </thead>\n",
       "  <tbody>\n",
       "    <tr>\n",
       "      <th>0</th>\n",
       "      <td>Friday</td>\n",
       "      <td>14401</td>\n",
       "    </tr>\n",
       "    <tr>\n",
       "      <th>1</th>\n",
       "      <td>Monday</td>\n",
       "      <td>13632</td>\n",
       "    </tr>\n",
       "    <tr>\n",
       "      <th>2</th>\n",
       "      <td>Saturday</td>\n",
       "      <td>32</td>\n",
       "    </tr>\n",
       "    <tr>\n",
       "      <th>3</th>\n",
       "      <td>Sunday</td>\n",
       "      <td>6375</td>\n",
       "    </tr>\n",
       "    <tr>\n",
       "      <th>4</th>\n",
       "      <td>Thursday</td>\n",
       "      <td>17031</td>\n",
       "    </tr>\n",
       "    <tr>\n",
       "      <th>5</th>\n",
       "      <td>Tuesday</td>\n",
       "      <td>14395</td>\n",
       "    </tr>\n",
       "    <tr>\n",
       "      <th>6</th>\n",
       "      <td>Wednesday</td>\n",
       "      <td>14433</td>\n",
       "    </tr>\n",
       "  </tbody>\n",
       "</table>\n",
       "</div>"
      ],
      "text/plain": [
       "  Day_of_week  Counts\n",
       "0      Friday   14401\n",
       "1      Monday   13632\n",
       "2    Saturday      32\n",
       "3      Sunday    6375\n",
       "4    Thursday   17031\n",
       "5     Tuesday   14395\n",
       "6   Wednesday   14433"
      ]
     },
     "execution_count": 21,
     "metadata": {},
     "output_type": "execute_result"
    }
   ],
   "source": [
    "weekday_orders = non_cancelled_Df.groupby(by='Day_of_week')['Invoice'].count().reset_index(name='Counts')\n",
    "weekday_orders"
   ]
  },
  {
   "cell_type": "code",
   "execution_count": 22,
   "metadata": {},
   "outputs": [
    {
     "data": {
      "image/png": "[encoded data removed]",
      "text/plain": [
       "<Figure size 720x432 with 1 Axes>"
      ]
     },
     "metadata": {
      "needs_background": "light"
     },
     "output_type": "display_data"
    }
   ],
   "source": [
    "plt.subplots(figsize=(10, 6))\n",
    "sns.barplot(x='Day_of_week',y='Counts',data=weekday_orders)\n",
    "plt.xlabel('WeekDay')\n",
    "plt.ylabel('# of Items')\n",
    "plt.title('Items Orders vs WeekDay')\n",
    "plt.show()"
   ]
  },
  {
   "cell_type": "code",
   "execution_count": 23,
   "metadata": {},
   "outputs": [
    {
     "data": {
      "text/plain": [
       "Index(['Invoice', 'StockCode', 'Description', 'Quantity', 'Price',\n",
       "       'Customer_Id', 'Country', 'Day_of_week', 'Date', 'Hour', 'Month',\n",
       "       'Year', 'Day', 'Weeknumber'],\n",
       "      dtype='object')"
      ]
     },
     "execution_count": 23,
     "metadata": {},
     "output_type": "execute_result"
    }
   ],
   "source": [
    "df_or.columns"
   ]
  },
  {
   "cell_type": "code",
   "execution_count": 24,
   "metadata": {},
   "outputs": [
    {
     "data": {
      "image/png": "[encoded data removed]",
      "text/plain": [
       "<Figure size 432x288 with 1 Axes>"
      ]
     },
     "metadata": {
      "needs_background": "light"
     },
     "output_type": "display_data"
    }
   ],
   "source": [
    "sns.histplot(x='Weeknumber',data=df_or,kde=True,bins=20)\n",
    "plt.xlabel('Weeknumber')\n",
    "plt.ylabel('# of Items')\n",
    "plt.title('Items Orderd vs WeekNumber')\n",
    "plt.show()"
   ]
  },
  {
   "cell_type": "code",
   "execution_count": 25,
   "metadata": {},
   "outputs": [
    {
     "data": {
      "text/html": [
       "<div>\n",
       "<style scoped>\n",
       "    .dataframe tbody tr th:only-of-type {\n",
       "        vertical-align: middle;\n",
       "    }\n",
       "\n",
       "    .dataframe tbody tr th {\n",
       "        vertical-align: top;\n",
       "    }\n",
       "\n",
       "    .dataframe thead th {\n",
       "        text-align: right;\n",
       "    }\n",
       "</style>\n",
       "<table border=\"1\" class=\"dataframe\">\n",
       "  <thead>\n",
       "    <tr style=\"text-align: right;\">\n",
       "      <th></th>\n",
       "      <th>Invoice</th>\n",
       "      <th>StockCode</th>\n",
       "      <th>Description</th>\n",
       "      <th>Quantity</th>\n",
       "      <th>Price</th>\n",
       "      <th>Customer_Id</th>\n",
       "      <th>Country</th>\n",
       "      <th>Day_of_week</th>\n",
       "      <th>Date</th>\n",
       "      <th>Hour</th>\n",
       "      <th>Month</th>\n",
       "      <th>Year</th>\n",
       "      <th>Day</th>\n",
       "      <th>Weeknumber</th>\n",
       "    </tr>\n",
       "  </thead>\n",
       "  <tbody>\n",
       "    <tr>\n",
       "      <th>71</th>\n",
       "      <td>489439</td>\n",
       "      <td>22065</td>\n",
       "      <td>CHRISTMAS PUDDING TRINKET POT</td>\n",
       "      <td>12</td>\n",
       "      <td>1.45</td>\n",
       "      <td>12682</td>\n",
       "      <td>France</td>\n",
       "      <td>Tuesday</td>\n",
       "      <td>2009-12-01</td>\n",
       "      <td>9</td>\n",
       "      <td>12</td>\n",
       "      <td>2009</td>\n",
       "      <td>1</td>\n",
       "      <td>49</td>\n",
       "    </tr>\n",
       "    <tr>\n",
       "      <th>72</th>\n",
       "      <td>489439</td>\n",
       "      <td>22138</td>\n",
       "      <td>BAKING SET 9 PIECE RETROSPOT</td>\n",
       "      <td>9</td>\n",
       "      <td>4.95</td>\n",
       "      <td>12682</td>\n",
       "      <td>France</td>\n",
       "      <td>Tuesday</td>\n",
       "      <td>2009-12-01</td>\n",
       "      <td>9</td>\n",
       "      <td>12</td>\n",
       "      <td>2009</td>\n",
       "      <td>1</td>\n",
       "      <td>49</td>\n",
       "    </tr>\n",
       "    <tr>\n",
       "      <th>73</th>\n",
       "      <td>489439</td>\n",
       "      <td>22139</td>\n",
       "      <td>RETRO SPOT TEA SET CERAMIC 11 PC</td>\n",
       "      <td>9</td>\n",
       "      <td>4.95</td>\n",
       "      <td>12682</td>\n",
       "      <td>France</td>\n",
       "      <td>Tuesday</td>\n",
       "      <td>2009-12-01</td>\n",
       "      <td>9</td>\n",
       "      <td>12</td>\n",
       "      <td>2009</td>\n",
       "      <td>1</td>\n",
       "      <td>49</td>\n",
       "    </tr>\n",
       "    <tr>\n",
       "      <th>74</th>\n",
       "      <td>489439</td>\n",
       "      <td>22352</td>\n",
       "      <td>LUNCHBOX WITH CUTLERY RETROSPOT</td>\n",
       "      <td>12</td>\n",
       "      <td>2.55</td>\n",
       "      <td>12682</td>\n",
       "      <td>France</td>\n",
       "      <td>Tuesday</td>\n",
       "      <td>2009-12-01</td>\n",
       "      <td>9</td>\n",
       "      <td>12</td>\n",
       "      <td>2009</td>\n",
       "      <td>1</td>\n",
       "      <td>49</td>\n",
       "    </tr>\n",
       "    <tr>\n",
       "      <th>75</th>\n",
       "      <td>489439</td>\n",
       "      <td>85014A</td>\n",
       "      <td>BLACK/BLUE DOTS RUFFLED UMBRELLA</td>\n",
       "      <td>3</td>\n",
       "      <td>5.95</td>\n",
       "      <td>12682</td>\n",
       "      <td>France</td>\n",
       "      <td>Tuesday</td>\n",
       "      <td>2009-12-01</td>\n",
       "      <td>9</td>\n",
       "      <td>12</td>\n",
       "      <td>2009</td>\n",
       "      <td>1</td>\n",
       "      <td>49</td>\n",
       "    </tr>\n",
       "  </tbody>\n",
       "</table>\n",
       "</div>"
      ],
      "text/plain": [
       "   Invoice StockCode                        Description  Quantity  Price  \\\n",
       "71  489439     22065     CHRISTMAS PUDDING TRINKET POT         12   1.45   \n",
       "72  489439     22138      BAKING SET 9 PIECE RETROSPOT          9   4.95   \n",
       "73  489439     22139  RETRO SPOT TEA SET CERAMIC 11 PC          9   4.95   \n",
       "74  489439     22352   LUNCHBOX WITH CUTLERY RETROSPOT         12   2.55   \n",
       "75  489439    85014A   BLACK/BLUE DOTS RUFFLED UMBRELLA         3   5.95   \n",
       "\n",
       "    Customer_Id Country Day_of_week        Date  Hour  Month  Year  Day  \\\n",
       "71        12682  France     Tuesday  2009-12-01     9     12  2009    1   \n",
       "72        12682  France     Tuesday  2009-12-01     9     12  2009    1   \n",
       "73        12682  France     Tuesday  2009-12-01     9     12  2009    1   \n",
       "74        12682  France     Tuesday  2009-12-01     9     12  2009    1   \n",
       "75        12682  France     Tuesday  2009-12-01     9     12  2009    1   \n",
       "\n",
       "    Weeknumber  \n",
       "71          49  \n",
       "72          49  \n",
       "73          49  \n",
       "74          49  \n",
       "75          49  "
      ]
     },
     "execution_count": 25,
     "metadata": {},
     "output_type": "execute_result"
    }
   ],
   "source": [
    "df_or.head()"
   ]
  },
  {
   "cell_type": "markdown",
   "metadata": {},
   "source": [
    "### 3.2.2 Performing Statistical test\n",
    "Our goal is to perform a 2t test and find if there are any differences in the month sales pattern. \n",
    "\n",
    "* Null Hypothesis - There is no difference in the sales patterns across adjacent months\n",
    "* Alternate Hypothesis - There is a difference in the sales patterns across adjacent months"
   ]
  },
  {
   "cell_type": "code",
   "execution_count": 26,
   "metadata": {},
   "outputs": [
    {
     "data": {
      "text/plain": [
       "(153, 3)"
      ]
     },
     "execution_count": 26,
     "metadata": {},
     "output_type": "execute_result"
    }
   ],
   "source": [
    "sub_df = df_or.groupby(by=(['Month','Hour'])).size().reset_index(name='counts')\n",
    "sub_df.shape"
   ]
  },
  {
   "cell_type": "code",
   "execution_count": 27,
   "metadata": {},
   "outputs": [],
   "source": [
    "sub_df.head()\n",
    "\n",
    "jan_Df = sub_df[sub_df.Month == 1]\n",
    "feb_Df = sub_df[sub_df.Month == 2]\n",
    "march_Df = sub_df[sub_df.Month == 3]\n",
    "april_Df = sub_df[sub_df.Month == 4]\n",
    "may_Df = sub_df[sub_df.Month == 5]\n",
    "june_Df = sub_df[sub_df.Month == 6]\n",
    "july_Df = sub_df[sub_df.Month == 7]\n",
    "aug_Df = sub_df[sub_df.Month == 8]\n",
    "sep_Df = sub_df[sub_df.Month == 9]\n",
    "oct_Df = sub_df[sub_df.Month == 1]\n",
    "nov_Df = sub_df[sub_df.Month == 11]\n",
    "dec_Df = sub_df[sub_df.Month == 12]\n",
    "\n"
   ]
  },
  {
   "cell_type": "code",
   "execution_count": 28,
   "metadata": {},
   "outputs": [
    {
     "data": {
      "text/plain": [
       "Text(0.5, 1.0, 'December Sales')"
      ]
     },
     "execution_count": 28,
     "metadata": {},
     "output_type": "execute_result"
    },
    {
     "data": {
      "image/png": "[encoded data removed]",
      "text/plain": [
       "<Figure size 1296x1440 with 12 Axes>"
      ]
     },
     "metadata": {
      "needs_background": "light"
     },
     "output_type": "display_data"
    }
   ],
   "source": [
    "fig, axes = plt.subplots(4, 3,figsize =(18,20))\n",
    "sns.barplot(ax=axes[0,0],data= jan_Df,x='Hour',y='counts')\n",
    "axes[0,0].set_title('January Sales')\n",
    "sns.barplot(ax=axes[0,1],data= feb_Df,x='Hour',y='counts')\n",
    "axes[0,1].set_title('February Sales')\n",
    "sns.barplot(ax=axes[0,2],data= march_Df,x='Hour',y='counts')\n",
    "axes[0,2].set_title('March Sales')\n",
    "sns.barplot(ax=axes[1,0],data= april_Df,x='Hour',y='counts')\n",
    "axes[1,0].set_title('April Sales')\n",
    "sns.barplot(ax=axes[1,1],data= may_Df,x='Hour',y='counts')\n",
    "axes[1,1].set_title('May Sales')\n",
    "sns.barplot(ax=axes[1,2],data= june_Df,x='Hour',y='counts')\n",
    "axes[1,2].set_title('June Sales')\n",
    "sns.barplot(ax=axes[2,0],data= july_Df,x='Hour',y='counts')\n",
    "axes[2,0].set_title('July Sales')\n",
    "sns.barplot(ax=axes[2,1],data= aug_Df,x='Hour',y='counts')\n",
    "axes[2,1].set_title('August Sales')\n",
    "sns.barplot(ax=axes[2,2],data= sep_Df,x='Hour',y='counts')\n",
    "axes[2,2].set_title('September Sales')\n",
    "sns.barplot(ax=axes[3,0],data= oct_Df,x='Hour',y='counts')\n",
    "axes[3,0].set_title('October Sales')\n",
    "sns.barplot(ax=axes[3,1],data= nov_Df,x='Hour',y='counts')\n",
    "axes[3,1].set_title('November Sales')\n",
    "sns.barplot(ax=axes[3,2],data= dec_Df,x='Hour',y='counts')\n",
    "axes[3,2].set_title('December Sales')"
   ]
  },
  {
   "cell_type": "code",
   "execution_count": 29,
   "metadata": {},
   "outputs": [
    {
     "name": "stdout",
     "output_type": "stream",
     "text": [
      "Jan Feb ttest_ind:            t = 0.210617  p = 0.835125\n",
      "Feb March ttest_ind:            t = -0.692325  p = 0.496517\n",
      "March April ttest_ind:            t = 0.922651  p = 0.366325\n",
      "April May ttest_ind:            t = -0.818604  p = 0.42144\n",
      "May June ttest_ind:            t = -0.160687  p = 0.873709\n",
      "June July ttest_ind:            t = 0.202988  p = 0.840857\n",
      "July Aug ttest_ind:            t = -0.227349  p = 0.822083\n",
      "Aug Sep ttest_ind:            t = -0.713527  p = 0.482948\n",
      "Sep Oct ttest_ind:            t = 1.11878  p = 0.27546\n",
      "Oct Nov ttest_ind:            t = -2.25426  p = 0.0363006\n",
      "Nov Dec ttest_ind:            t = 1.42482  p = 0.168617\n",
      "Dec Jan ttest_ind:            t = 0.947368  p = 0.353335\n"
     ]
    }
   ],
   "source": [
    "t, p = ttest_ind(jan_Df['counts'], feb_Df['counts'], equal_var=False)\n",
    "print(\"Jan Feb ttest_ind:            t = %g  p = %g\" % (t, p))\n",
    "\n",
    "t, p = ttest_ind(feb_Df['counts'], march_Df['counts'], equal_var=False)\n",
    "print(\"Feb March ttest_ind:            t = %g  p = %g\" % (t, p))\n",
    "\n",
    "t, p = ttest_ind(march_Df['counts'], april_Df['counts'], equal_var=False)\n",
    "print(\"March April ttest_ind:            t = %g  p = %g\" % (t, p))\n",
    "\n",
    "t, p = ttest_ind(april_Df['counts'], may_Df['counts'], equal_var=False)\n",
    "print(\"April May ttest_ind:            t = %g  p = %g\" % (t, p))\n",
    "\n",
    "t, p = ttest_ind(may_Df['counts'], june_Df['counts'], equal_var=False)\n",
    "print(\"May June ttest_ind:            t = %g  p = %g\" % (t, p))\n",
    "\n",
    "t, p = ttest_ind(june_Df['counts'], july_Df['counts'], equal_var=False)\n",
    "print(\"June July ttest_ind:            t = %g  p = %g\" % (t, p))\n",
    "\n",
    "t, p = ttest_ind(july_Df['counts'], aug_Df['counts'], equal_var=False)\n",
    "print(\"July Aug ttest_ind:            t = %g  p = %g\" % (t, p))\n",
    "\n",
    "t, p = ttest_ind(aug_Df['counts'], sep_Df['counts'], equal_var=False)\n",
    "print(\"Aug Sep ttest_ind:            t = %g  p = %g\" % (t, p))\n",
    "\n",
    "t, p = ttest_ind(sep_Df['counts'], oct_Df['counts'], equal_var=False)\n",
    "print(\"Sep Oct ttest_ind:            t = %g  p = %g\" % (t, p))\n",
    "\n",
    "t, p = ttest_ind(oct_Df['counts'], nov_Df['counts'], equal_var=False)\n",
    "print(\"Oct Nov ttest_ind:            t = %g  p = %g\" % (t, p))\n",
    "\n",
    "t, p = ttest_ind(nov_Df['counts'], dec_Df['counts'], equal_var=False)\n",
    "print(\"Nov Dec ttest_ind:            t = %g  p = %g\" % (t, p))\n",
    "\n",
    "t, p = ttest_ind(dec_Df['counts'], jan_Df['counts'], equal_var=False)\n",
    "print(\"Dec Jan ttest_ind:            t = %g  p = %g\" % (t, p))"
   ]
  },
  {
   "cell_type": "markdown",
   "metadata": {},
   "source": [
    "Based on our above analysis we can see that all the months except for Oct-Nov there is no significant changes in the item sales for the adjacent months."
   ]
  },
  {
   "cell_type": "markdown",
   "metadata": {},
   "source": [
    "### 3.2.3 Feature Engineering\n",
    "\n",
    "The following steps are taken in the below feature engineering process\n",
    "* Total Cart price for each day\n",
    "* Calculate the average daily cart price\n",
    "* Calculate daily unique orders\n",
    "* Calculate 7 and 30 days pre orders \n",
    "* Calculate 30 days post orders"
   ]
  },
  {
   "cell_type": "code",
   "execution_count": 30,
   "metadata": {},
   "outputs": [
    {
     "data": {
      "text/html": [
       "<div>\n",
       "<style scoped>\n",
       "    .dataframe tbody tr th:only-of-type {\n",
       "        vertical-align: middle;\n",
       "    }\n",
       "\n",
       "    .dataframe tbody tr th {\n",
       "        vertical-align: top;\n",
       "    }\n",
       "\n",
       "    .dataframe thead th {\n",
       "        text-align: right;\n",
       "    }\n",
       "</style>\n",
       "<table border=\"1\" class=\"dataframe\">\n",
       "  <thead>\n",
       "    <tr style=\"text-align: right;\">\n",
       "      <th></th>\n",
       "      <th>Date</th>\n",
       "      <th>Item_counts</th>\n",
       "    </tr>\n",
       "  </thead>\n",
       "  <tbody>\n",
       "    <tr>\n",
       "      <th>0</th>\n",
       "      <td>2009-12-01</td>\n",
       "      <td>270</td>\n",
       "    </tr>\n",
       "    <tr>\n",
       "      <th>1</th>\n",
       "      <td>2009-12-02</td>\n",
       "      <td>58</td>\n",
       "    </tr>\n",
       "    <tr>\n",
       "      <th>2</th>\n",
       "      <td>2009-12-03</td>\n",
       "      <td>91</td>\n",
       "    </tr>\n",
       "    <tr>\n",
       "      <th>3</th>\n",
       "      <td>2009-12-04</td>\n",
       "      <td>116</td>\n",
       "    </tr>\n",
       "    <tr>\n",
       "      <th>4</th>\n",
       "      <td>2009-12-05</td>\n",
       "      <td>32</td>\n",
       "    </tr>\n",
       "  </tbody>\n",
       "</table>\n",
       "</div>"
      ],
      "text/plain": [
       "         Date  Item_counts\n",
       "0  2009-12-01          270\n",
       "1  2009-12-02           58\n",
       "2  2009-12-03           91\n",
       "3  2009-12-04          116\n",
       "4  2009-12-05           32"
      ]
     },
     "execution_count": 30,
     "metadata": {},
     "output_type": "execute_result"
    }
   ],
   "source": [
    "#Items sold daily\n",
    "item_count_Df = df_or.groupby(by='Date')['StockCode'].count().reset_index(name='Item_counts')\n",
    "item_count_Df.head()"
   ]
  },
  {
   "cell_type": "code",
   "execution_count": 31,
   "metadata": {},
   "outputs": [
    {
     "data": {
      "text/plain": [
       "122.0"
      ]
     },
     "execution_count": 31,
     "metadata": {},
     "output_type": "execute_result"
    }
   ],
   "source": [
    "item_count_Df['Item_counts'].median()"
   ]
  },
  {
   "cell_type": "markdown",
   "metadata": {},
   "source": [
    "#### 3.2.3.1 Total Cart price per day"
   ]
  },
  {
   "cell_type": "code",
   "execution_count": 32,
   "metadata": {},
   "outputs": [],
   "source": [
    "#Total cart bill\n",
    "df_or['Price_Total'] = df_or['Price'] * df_or['Quantity']"
   ]
  },
  {
   "cell_type": "code",
   "execution_count": 33,
   "metadata": {},
   "outputs": [
    {
     "data": {
      "text/html": [
       "<div>\n",
       "<style scoped>\n",
       "    .dataframe tbody tr th:only-of-type {\n",
       "        vertical-align: middle;\n",
       "    }\n",
       "\n",
       "    .dataframe tbody tr th {\n",
       "        vertical-align: top;\n",
       "    }\n",
       "\n",
       "    .dataframe thead th {\n",
       "        text-align: right;\n",
       "    }\n",
       "</style>\n",
       "<table border=\"1\" class=\"dataframe\">\n",
       "  <thead>\n",
       "    <tr style=\"text-align: right;\">\n",
       "      <th></th>\n",
       "      <th>Date</th>\n",
       "      <th>TotalPrice</th>\n",
       "    </tr>\n",
       "  </thead>\n",
       "  <tbody>\n",
       "    <tr>\n",
       "      <th>0</th>\n",
       "      <td>2009-12-01</td>\n",
       "      <td>6480.32</td>\n",
       "    </tr>\n",
       "    <tr>\n",
       "      <th>1</th>\n",
       "      <td>2009-12-02</td>\n",
       "      <td>7039.22</td>\n",
       "    </tr>\n",
       "    <tr>\n",
       "      <th>2</th>\n",
       "      <td>2009-12-03</td>\n",
       "      <td>752.25</td>\n",
       "    </tr>\n",
       "    <tr>\n",
       "      <th>3</th>\n",
       "      <td>2009-12-04</td>\n",
       "      <td>2518.07</td>\n",
       "    </tr>\n",
       "    <tr>\n",
       "      <th>4</th>\n",
       "      <td>2009-12-05</td>\n",
       "      <td>760.69</td>\n",
       "    </tr>\n",
       "    <tr>\n",
       "      <th>...</th>\n",
       "      <td>...</td>\n",
       "      <td>...</td>\n",
       "    </tr>\n",
       "    <tr>\n",
       "      <th>573</th>\n",
       "      <td>2011-12-05</td>\n",
       "      <td>3036.07</td>\n",
       "    </tr>\n",
       "    <tr>\n",
       "      <th>574</th>\n",
       "      <td>2011-12-06</td>\n",
       "      <td>3921.06</td>\n",
       "    </tr>\n",
       "    <tr>\n",
       "      <th>575</th>\n",
       "      <td>2011-12-07</td>\n",
       "      <td>20047.64</td>\n",
       "    </tr>\n",
       "    <tr>\n",
       "      <th>576</th>\n",
       "      <td>2011-12-08</td>\n",
       "      <td>2979.88</td>\n",
       "    </tr>\n",
       "    <tr>\n",
       "      <th>577</th>\n",
       "      <td>2011-12-09</td>\n",
       "      <td>4804.50</td>\n",
       "    </tr>\n",
       "  </tbody>\n",
       "</table>\n",
       "<p>578 rows × 2 columns</p>\n",
       "</div>"
      ],
      "text/plain": [
       "          Date  TotalPrice\n",
       "0   2009-12-01     6480.32\n",
       "1   2009-12-02     7039.22\n",
       "2   2009-12-03      752.25\n",
       "3   2009-12-04     2518.07\n",
       "4   2009-12-05      760.69\n",
       "..         ...         ...\n",
       "573 2011-12-05     3036.07\n",
       "574 2011-12-06     3921.06\n",
       "575 2011-12-07    20047.64\n",
       "576 2011-12-08     2979.88\n",
       "577 2011-12-09     4804.50\n",
       "\n",
       "[578 rows x 2 columns]"
      ]
     },
     "execution_count": 33,
     "metadata": {},
     "output_type": "execute_result"
    }
   ],
   "source": [
    "price_df = df_or.groupby(by=['Date'])['Price_Total'].agg(['sum']).rename(columns = {'sum':'TotalPrice'}).reset_index()\n",
    "price_df['Date'] = pd.to_datetime(price_df['Date'], format='%Y-%m-%d')\n",
    "price_df"
   ]
  },
  {
   "cell_type": "code",
   "execution_count": 34,
   "metadata": {},
   "outputs": [
    {
     "name": "stdout",
     "output_type": "stream",
     "text": [
      "2009-12-01 00:00:00\n",
      "2011-12-09 00:00:00\n"
     ]
    },
    {
     "data": {
      "text/html": [
       "<div>\n",
       "<style scoped>\n",
       "    .dataframe tbody tr th:only-of-type {\n",
       "        vertical-align: middle;\n",
       "    }\n",
       "\n",
       "    .dataframe tbody tr th {\n",
       "        vertical-align: top;\n",
       "    }\n",
       "\n",
       "    .dataframe thead th {\n",
       "        text-align: right;\n",
       "    }\n",
       "</style>\n",
       "<table border=\"1\" class=\"dataframe\">\n",
       "  <thead>\n",
       "    <tr style=\"text-align: right;\">\n",
       "      <th></th>\n",
       "      <th>Invoice</th>\n",
       "      <th>StockCode</th>\n",
       "      <th>Description</th>\n",
       "      <th>Quantity</th>\n",
       "      <th>Price</th>\n",
       "      <th>Customer_Id</th>\n",
       "      <th>Country</th>\n",
       "      <th>Day_of_week</th>\n",
       "      <th>Date</th>\n",
       "      <th>Hour</th>\n",
       "      <th>Month</th>\n",
       "      <th>Year</th>\n",
       "      <th>Day</th>\n",
       "      <th>Weeknumber</th>\n",
       "      <th>Price_Total</th>\n",
       "    </tr>\n",
       "  </thead>\n",
       "  <tbody>\n",
       "    <tr>\n",
       "      <th>71</th>\n",
       "      <td>489439</td>\n",
       "      <td>22065</td>\n",
       "      <td>CHRISTMAS PUDDING TRINKET POT</td>\n",
       "      <td>12</td>\n",
       "      <td>1.45</td>\n",
       "      <td>12682</td>\n",
       "      <td>France</td>\n",
       "      <td>Tuesday</td>\n",
       "      <td>2009-12-01</td>\n",
       "      <td>9</td>\n",
       "      <td>12</td>\n",
       "      <td>2009</td>\n",
       "      <td>1</td>\n",
       "      <td>49</td>\n",
       "      <td>17.40</td>\n",
       "    </tr>\n",
       "    <tr>\n",
       "      <th>72</th>\n",
       "      <td>489439</td>\n",
       "      <td>22138</td>\n",
       "      <td>BAKING SET 9 PIECE RETROSPOT</td>\n",
       "      <td>9</td>\n",
       "      <td>4.95</td>\n",
       "      <td>12682</td>\n",
       "      <td>France</td>\n",
       "      <td>Tuesday</td>\n",
       "      <td>2009-12-01</td>\n",
       "      <td>9</td>\n",
       "      <td>12</td>\n",
       "      <td>2009</td>\n",
       "      <td>1</td>\n",
       "      <td>49</td>\n",
       "      <td>44.55</td>\n",
       "    </tr>\n",
       "    <tr>\n",
       "      <th>73</th>\n",
       "      <td>489439</td>\n",
       "      <td>22139</td>\n",
       "      <td>RETRO SPOT TEA SET CERAMIC 11 PC</td>\n",
       "      <td>9</td>\n",
       "      <td>4.95</td>\n",
       "      <td>12682</td>\n",
       "      <td>France</td>\n",
       "      <td>Tuesday</td>\n",
       "      <td>2009-12-01</td>\n",
       "      <td>9</td>\n",
       "      <td>12</td>\n",
       "      <td>2009</td>\n",
       "      <td>1</td>\n",
       "      <td>49</td>\n",
       "      <td>44.55</td>\n",
       "    </tr>\n",
       "    <tr>\n",
       "      <th>74</th>\n",
       "      <td>489439</td>\n",
       "      <td>22352</td>\n",
       "      <td>LUNCHBOX WITH CUTLERY RETROSPOT</td>\n",
       "      <td>12</td>\n",
       "      <td>2.55</td>\n",
       "      <td>12682</td>\n",
       "      <td>France</td>\n",
       "      <td>Tuesday</td>\n",
       "      <td>2009-12-01</td>\n",
       "      <td>9</td>\n",
       "      <td>12</td>\n",
       "      <td>2009</td>\n",
       "      <td>1</td>\n",
       "      <td>49</td>\n",
       "      <td>30.60</td>\n",
       "    </tr>\n",
       "    <tr>\n",
       "      <th>75</th>\n",
       "      <td>489439</td>\n",
       "      <td>85014A</td>\n",
       "      <td>BLACK/BLUE DOTS RUFFLED UMBRELLA</td>\n",
       "      <td>3</td>\n",
       "      <td>5.95</td>\n",
       "      <td>12682</td>\n",
       "      <td>France</td>\n",
       "      <td>Tuesday</td>\n",
       "      <td>2009-12-01</td>\n",
       "      <td>9</td>\n",
       "      <td>12</td>\n",
       "      <td>2009</td>\n",
       "      <td>1</td>\n",
       "      <td>49</td>\n",
       "      <td>17.85</td>\n",
       "    </tr>\n",
       "  </tbody>\n",
       "</table>\n",
       "</div>"
      ],
      "text/plain": [
       "   Invoice StockCode                        Description  Quantity  Price  \\\n",
       "71  489439     22065     CHRISTMAS PUDDING TRINKET POT         12   1.45   \n",
       "72  489439     22138      BAKING SET 9 PIECE RETROSPOT          9   4.95   \n",
       "73  489439     22139  RETRO SPOT TEA SET CERAMIC 11 PC          9   4.95   \n",
       "74  489439     22352   LUNCHBOX WITH CUTLERY RETROSPOT         12   2.55   \n",
       "75  489439    85014A   BLACK/BLUE DOTS RUFFLED UMBRELLA         3   5.95   \n",
       "\n",
       "    Customer_Id Country Day_of_week       Date  Hour  Month  Year  Day  \\\n",
       "71        12682  France     Tuesday 2009-12-01     9     12  2009    1   \n",
       "72        12682  France     Tuesday 2009-12-01     9     12  2009    1   \n",
       "73        12682  France     Tuesday 2009-12-01     9     12  2009    1   \n",
       "74        12682  France     Tuesday 2009-12-01     9     12  2009    1   \n",
       "75        12682  France     Tuesday 2009-12-01     9     12  2009    1   \n",
       "\n",
       "    Weeknumber  Price_Total  \n",
       "71          49        17.40  \n",
       "72          49        44.55  \n",
       "73          49        44.55  \n",
       "74          49        30.60  \n",
       "75          49        17.85  "
      ]
     },
     "execution_count": 34,
     "metadata": {},
     "output_type": "execute_result"
    }
   ],
   "source": [
    "df_or['Date'] = pd.to_datetime(df_or['Date'], format='%Y-%m-%d')\n",
    "print(df_or.Date.min())\n",
    "print(df_or.Date.max())\n",
    "df_or.head()"
   ]
  },
  {
   "cell_type": "markdown",
   "metadata": {},
   "source": [
    "#### 3.2.3.2 Unique orders per day"
   ]
  },
  {
   "cell_type": "code",
   "execution_count": 35,
   "metadata": {},
   "outputs": [
    {
     "data": {
      "text/html": [
       "<div>\n",
       "<style scoped>\n",
       "    .dataframe tbody tr th:only-of-type {\n",
       "        vertical-align: middle;\n",
       "    }\n",
       "\n",
       "    .dataframe tbody tr th {\n",
       "        vertical-align: top;\n",
       "    }\n",
       "\n",
       "    .dataframe thead th {\n",
       "        text-align: right;\n",
       "    }\n",
       "</style>\n",
       "<table border=\"1\" class=\"dataframe\">\n",
       "  <thead>\n",
       "    <tr style=\"text-align: right;\">\n",
       "      <th></th>\n",
       "      <th>Invoice</th>\n",
       "      <th>Date</th>\n",
       "      <th>counts</th>\n",
       "    </tr>\n",
       "  </thead>\n",
       "  <tbody>\n",
       "    <tr>\n",
       "      <th>0</th>\n",
       "      <td>489439</td>\n",
       "      <td>2009-12-01</td>\n",
       "      <td>1</td>\n",
       "    </tr>\n",
       "    <tr>\n",
       "      <th>1</th>\n",
       "      <td>489444</td>\n",
       "      <td>2009-12-01</td>\n",
       "      <td>1</td>\n",
       "    </tr>\n",
       "    <tr>\n",
       "      <th>2</th>\n",
       "      <td>489447</td>\n",
       "      <td>2009-12-01</td>\n",
       "      <td>1</td>\n",
       "    </tr>\n",
       "    <tr>\n",
       "      <th>3</th>\n",
       "      <td>489450</td>\n",
       "      <td>2009-12-01</td>\n",
       "      <td>1</td>\n",
       "    </tr>\n",
       "    <tr>\n",
       "      <th>4</th>\n",
       "      <td>489520</td>\n",
       "      <td>2009-12-01</td>\n",
       "      <td>1</td>\n",
       "    </tr>\n",
       "  </tbody>\n",
       "</table>\n",
       "</div>"
      ],
      "text/plain": [
       "  Invoice       Date  counts\n",
       "0  489439 2009-12-01       1\n",
       "1  489444 2009-12-01       1\n",
       "2  489447 2009-12-01       1\n",
       "3  489450 2009-12-01       1\n",
       "4  489520 2009-12-01       1"
      ]
     },
     "execution_count": 35,
     "metadata": {},
     "output_type": "execute_result"
    }
   ],
   "source": [
    "new_Df = df_or.groupby(by=['Invoice','Date'])['Invoice'].nunique().reset_index(name='counts')\n",
    "new_Df.head()"
   ]
  },
  {
   "cell_type": "code",
   "execution_count": 36,
   "metadata": {},
   "outputs": [],
   "source": [
    "new_Df = new_Df[['Date','counts']]"
   ]
  },
  {
   "cell_type": "code",
   "execution_count": 37,
   "metadata": {},
   "outputs": [
    {
     "data": {
      "text/html": [
       "<div>\n",
       "<style scoped>\n",
       "    .dataframe tbody tr th:only-of-type {\n",
       "        vertical-align: middle;\n",
       "    }\n",
       "\n",
       "    .dataframe tbody tr th {\n",
       "        vertical-align: top;\n",
       "    }\n",
       "\n",
       "    .dataframe thead th {\n",
       "        text-align: right;\n",
       "    }\n",
       "</style>\n",
       "<table border=\"1\" class=\"dataframe\">\n",
       "  <thead>\n",
       "    <tr style=\"text-align: right;\">\n",
       "      <th></th>\n",
       "      <th>Date</th>\n",
       "      <th>counts</th>\n",
       "    </tr>\n",
       "  </thead>\n",
       "  <tbody>\n",
       "    <tr>\n",
       "      <th>0</th>\n",
       "      <td>2009-12-01</td>\n",
       "      <td>12</td>\n",
       "    </tr>\n",
       "    <tr>\n",
       "      <th>1</th>\n",
       "      <td>2009-12-02</td>\n",
       "      <td>7</td>\n",
       "    </tr>\n",
       "    <tr>\n",
       "      <th>2</th>\n",
       "      <td>2009-12-03</td>\n",
       "      <td>6</td>\n",
       "    </tr>\n",
       "    <tr>\n",
       "      <th>3</th>\n",
       "      <td>2009-12-04</td>\n",
       "      <td>7</td>\n",
       "    </tr>\n",
       "    <tr>\n",
       "      <th>4</th>\n",
       "      <td>2009-12-05</td>\n",
       "      <td>1</td>\n",
       "    </tr>\n",
       "  </tbody>\n",
       "</table>\n",
       "</div>"
      ],
      "text/plain": [
       "        Date  counts\n",
       "0 2009-12-01      12\n",
       "1 2009-12-02       7\n",
       "2 2009-12-03       6\n",
       "3 2009-12-04       7\n",
       "4 2009-12-05       1"
      ]
     },
     "execution_count": 37,
     "metadata": {},
     "output_type": "execute_result"
    }
   ],
   "source": [
    "orders_df = new_Df.groupby(by = 'Date')['counts'].sum().reset_index(name='counts')\n",
    "orders_df.head()"
   ]
  },
  {
   "cell_type": "markdown",
   "metadata": {},
   "source": [
    "#### 3.2.3.3 Unique orders and Average Cart value per day"
   ]
  },
  {
   "cell_type": "code",
   "execution_count": 38,
   "metadata": {},
   "outputs": [
    {
     "data": {
      "text/html": [
       "<div>\n",
       "<style scoped>\n",
       "    .dataframe tbody tr th:only-of-type {\n",
       "        vertical-align: middle;\n",
       "    }\n",
       "\n",
       "    .dataframe tbody tr th {\n",
       "        vertical-align: top;\n",
       "    }\n",
       "\n",
       "    .dataframe thead th {\n",
       "        text-align: right;\n",
       "    }\n",
       "</style>\n",
       "<table border=\"1\" class=\"dataframe\">\n",
       "  <thead>\n",
       "    <tr style=\"text-align: right;\">\n",
       "      <th></th>\n",
       "      <th>Date</th>\n",
       "      <th>counts</th>\n",
       "      <th>TotalPrice</th>\n",
       "      <th>Average_Price</th>\n",
       "    </tr>\n",
       "  </thead>\n",
       "  <tbody>\n",
       "    <tr>\n",
       "      <th>0</th>\n",
       "      <td>2009-12-01</td>\n",
       "      <td>12</td>\n",
       "      <td>6480.32</td>\n",
       "      <td>540.026667</td>\n",
       "    </tr>\n",
       "    <tr>\n",
       "      <th>1</th>\n",
       "      <td>2009-12-02</td>\n",
       "      <td>7</td>\n",
       "      <td>7039.22</td>\n",
       "      <td>1005.602857</td>\n",
       "    </tr>\n",
       "    <tr>\n",
       "      <th>2</th>\n",
       "      <td>2009-12-03</td>\n",
       "      <td>6</td>\n",
       "      <td>752.25</td>\n",
       "      <td>125.375000</td>\n",
       "    </tr>\n",
       "    <tr>\n",
       "      <th>3</th>\n",
       "      <td>2009-12-04</td>\n",
       "      <td>7</td>\n",
       "      <td>2518.07</td>\n",
       "      <td>359.724286</td>\n",
       "    </tr>\n",
       "    <tr>\n",
       "      <th>4</th>\n",
       "      <td>2009-12-05</td>\n",
       "      <td>1</td>\n",
       "      <td>760.69</td>\n",
       "      <td>760.690000</td>\n",
       "    </tr>\n",
       "  </tbody>\n",
       "</table>\n",
       "</div>"
      ],
      "text/plain": [
       "        Date  counts  TotalPrice  Average_Price\n",
       "0 2009-12-01      12     6480.32     540.026667\n",
       "1 2009-12-02       7     7039.22    1005.602857\n",
       "2 2009-12-03       6      752.25     125.375000\n",
       "3 2009-12-04       7     2518.07     359.724286\n",
       "4 2009-12-05       1      760.69     760.690000"
      ]
     },
     "execution_count": 38,
     "metadata": {},
     "output_type": "execute_result"
    }
   ],
   "source": [
    "orders_df = pd.merge(orders_df,price_df,how=\"left\",on='Date')\n",
    "orders_df['Average_Price'] = orders_df['TotalPrice'] / orders_df['counts']\n",
    "orders_df.head()\n"
   ]
  },
  {
   "cell_type": "code",
   "execution_count": 39,
   "metadata": {},
   "outputs": [
    {
     "data": {
      "text/plain": [
       "Date             datetime64[ns]\n",
       "counts                    int64\n",
       "TotalPrice              float64\n",
       "Average_Price           float64\n",
       "dtype: object"
      ]
     },
     "execution_count": 39,
     "metadata": {},
     "output_type": "execute_result"
    }
   ],
   "source": [
    "orders_df['Date'] = pd.to_datetime(orders_df['Date'],format='%Y-%m-%d')\n",
    "orders_df.dtypes"
   ]
  },
  {
   "cell_type": "code",
   "execution_count": 40,
   "metadata": {},
   "outputs": [],
   "source": [
    "all_Days_df = pd.read_csv('..\\data\\interim\\\\all_days.csv')"
   ]
  },
  {
   "cell_type": "code",
   "execution_count": 41,
   "metadata": {},
   "outputs": [
    {
     "data": {
      "text/html": [
       "<div>\n",
       "<style scoped>\n",
       "    .dataframe tbody tr th:only-of-type {\n",
       "        vertical-align: middle;\n",
       "    }\n",
       "\n",
       "    .dataframe tbody tr th {\n",
       "        vertical-align: top;\n",
       "    }\n",
       "\n",
       "    .dataframe thead th {\n",
       "        text-align: right;\n",
       "    }\n",
       "</style>\n",
       "<table border=\"1\" class=\"dataframe\">\n",
       "  <thead>\n",
       "    <tr style=\"text-align: right;\">\n",
       "      <th></th>\n",
       "      <th>Date</th>\n",
       "    </tr>\n",
       "  </thead>\n",
       "  <tbody>\n",
       "    <tr>\n",
       "      <th>0</th>\n",
       "      <td>2009-12-01</td>\n",
       "    </tr>\n",
       "    <tr>\n",
       "      <th>1</th>\n",
       "      <td>2009-12-02</td>\n",
       "    </tr>\n",
       "    <tr>\n",
       "      <th>2</th>\n",
       "      <td>2009-12-03</td>\n",
       "    </tr>\n",
       "    <tr>\n",
       "      <th>3</th>\n",
       "      <td>2009-12-04</td>\n",
       "    </tr>\n",
       "    <tr>\n",
       "      <th>4</th>\n",
       "      <td>2009-12-05</td>\n",
       "    </tr>\n",
       "  </tbody>\n",
       "</table>\n",
       "</div>"
      ],
      "text/plain": [
       "        Date\n",
       "0 2009-12-01\n",
       "1 2009-12-02\n",
       "2 2009-12-03\n",
       "3 2009-12-04\n",
       "4 2009-12-05"
      ]
     },
     "execution_count": 41,
     "metadata": {},
     "output_type": "execute_result"
    }
   ],
   "source": [
    "all_Days_df['Date'] = pd.to_datetime(all_Days_df['Date'],format='%Y-%m-%d')\n",
    "all_Days_df.head()"
   ]
  },
  {
   "cell_type": "code",
   "execution_count": 42,
   "metadata": {},
   "outputs": [
    {
     "data": {
      "text/plain": [
       "Date    datetime64[ns]\n",
       "dtype: object"
      ]
     },
     "execution_count": 42,
     "metadata": {},
     "output_type": "execute_result"
    }
   ],
   "source": [
    "all_Days_df.dtypes"
   ]
  },
  {
   "cell_type": "code",
   "execution_count": 43,
   "metadata": {},
   "outputs": [
    {
     "data": {
      "text/html": [
       "<div>\n",
       "<style scoped>\n",
       "    .dataframe tbody tr th:only-of-type {\n",
       "        vertical-align: middle;\n",
       "    }\n",
       "\n",
       "    .dataframe tbody tr th {\n",
       "        vertical-align: top;\n",
       "    }\n",
       "\n",
       "    .dataframe thead th {\n",
       "        text-align: right;\n",
       "    }\n",
       "</style>\n",
       "<table border=\"1\" class=\"dataframe\">\n",
       "  <thead>\n",
       "    <tr style=\"text-align: right;\">\n",
       "      <th></th>\n",
       "      <th>Date</th>\n",
       "      <th>counts</th>\n",
       "      <th>TotalPrice</th>\n",
       "      <th>Average_Price</th>\n",
       "    </tr>\n",
       "  </thead>\n",
       "  <tbody>\n",
       "    <tr>\n",
       "      <th>0</th>\n",
       "      <td>2009-12-01</td>\n",
       "      <td>12.0</td>\n",
       "      <td>6480.32</td>\n",
       "      <td>540.026667</td>\n",
       "    </tr>\n",
       "    <tr>\n",
       "      <th>1</th>\n",
       "      <td>2009-12-02</td>\n",
       "      <td>7.0</td>\n",
       "      <td>7039.22</td>\n",
       "      <td>1005.602857</td>\n",
       "    </tr>\n",
       "    <tr>\n",
       "      <th>2</th>\n",
       "      <td>2009-12-03</td>\n",
       "      <td>6.0</td>\n",
       "      <td>752.25</td>\n",
       "      <td>125.375000</td>\n",
       "    </tr>\n",
       "    <tr>\n",
       "      <th>3</th>\n",
       "      <td>2009-12-04</td>\n",
       "      <td>7.0</td>\n",
       "      <td>2518.07</td>\n",
       "      <td>359.724286</td>\n",
       "    </tr>\n",
       "    <tr>\n",
       "      <th>4</th>\n",
       "      <td>2009-12-05</td>\n",
       "      <td>1.0</td>\n",
       "      <td>760.69</td>\n",
       "      <td>760.690000</td>\n",
       "    </tr>\n",
       "  </tbody>\n",
       "</table>\n",
       "</div>"
      ],
      "text/plain": [
       "        Date  counts  TotalPrice  Average_Price\n",
       "0 2009-12-01    12.0     6480.32     540.026667\n",
       "1 2009-12-02     7.0     7039.22    1005.602857\n",
       "2 2009-12-03     6.0      752.25     125.375000\n",
       "3 2009-12-04     7.0     2518.07     359.724286\n",
       "4 2009-12-05     1.0      760.69     760.690000"
      ]
     },
     "execution_count": 43,
     "metadata": {},
     "output_type": "execute_result"
    }
   ],
   "source": [
    "merged_Df = pd.merge(all_Days_df,orders_df,how=\"left\",on=\"Date\")\n",
    "merged_Df.head()"
   ]
  },
  {
   "cell_type": "code",
   "execution_count": 44,
   "metadata": {},
   "outputs": [
    {
     "name": "stdout",
     "output_type": "stream",
     "text": [
      "<class 'pandas.core.frame.DataFrame'>\n",
      "Int64Index: 739 entries, 0 to 738\n",
      "Data columns (total 4 columns):\n",
      " #   Column         Non-Null Count  Dtype         \n",
      "---  ------         --------------  -----         \n",
      " 0   Date           739 non-null    datetime64[ns]\n",
      " 1   counts         578 non-null    float64       \n",
      " 2   TotalPrice     578 non-null    float64       \n",
      " 3   Average_Price  578 non-null    float64       \n",
      "dtypes: datetime64[ns](1), float64(3)\n",
      "memory usage: 28.9 KB\n"
     ]
    }
   ],
   "source": [
    "merged_Df.info()"
   ]
  },
  {
   "cell_type": "code",
   "execution_count": 45,
   "metadata": {},
   "outputs": [
    {
     "name": "stdout",
     "output_type": "stream",
     "text": [
      "Average daily orders - 7.0\n"
     ]
    }
   ],
   "source": [
    "print(\"Average daily orders - {}\".format(merged_Df['counts'].median()))"
   ]
  },
  {
   "cell_type": "code",
   "execution_count": 46,
   "metadata": {},
   "outputs": [],
   "source": [
    "merged_Df['counts'] = merged_Df['counts'].fillna(merged_Df['counts'].median())"
   ]
  },
  {
   "cell_type": "code",
   "execution_count": 47,
   "metadata": {},
   "outputs": [
    {
     "data": {
      "text/plain": [
       "Date               0\n",
       "counts             0\n",
       "TotalPrice       161\n",
       "Average_Price    161\n",
       "dtype: int64"
      ]
     },
     "execution_count": 47,
     "metadata": {},
     "output_type": "execute_result"
    }
   ],
   "source": [
    "merged_Df.isna().sum()"
   ]
  },
  {
   "cell_type": "code",
   "execution_count": 48,
   "metadata": {},
   "outputs": [
    {
     "data": {
      "text/html": [
       "<div>\n",
       "<style scoped>\n",
       "    .dataframe tbody tr th:only-of-type {\n",
       "        vertical-align: middle;\n",
       "    }\n",
       "\n",
       "    .dataframe tbody tr th {\n",
       "        vertical-align: top;\n",
       "    }\n",
       "\n",
       "    .dataframe thead th {\n",
       "        text-align: right;\n",
       "    }\n",
       "</style>\n",
       "<table border=\"1\" class=\"dataframe\">\n",
       "  <thead>\n",
       "    <tr style=\"text-align: right;\">\n",
       "      <th></th>\n",
       "      <th>Date</th>\n",
       "      <th>counts</th>\n",
       "      <th>TotalPrice</th>\n",
       "      <th>Average_Price</th>\n",
       "    </tr>\n",
       "  </thead>\n",
       "  <tbody>\n",
       "    <tr>\n",
       "      <th>24</th>\n",
       "      <td>2009-12-25</td>\n",
       "      <td>7.0</td>\n",
       "      <td>NaN</td>\n",
       "      <td>NaN</td>\n",
       "    </tr>\n",
       "  </tbody>\n",
       "</table>\n",
       "</div>"
      ],
      "text/plain": [
       "         Date  counts  TotalPrice  Average_Price\n",
       "24 2009-12-25     7.0         NaN            NaN"
      ]
     },
     "execution_count": 48,
     "metadata": {},
     "output_type": "execute_result"
    }
   ],
   "source": [
    "merged_Df[merged_Df['Date'] == '2009-12-25']"
   ]
  },
  {
   "cell_type": "code",
   "execution_count": 49,
   "metadata": {},
   "outputs": [],
   "source": [
    "holiday_list = ['2009-12-25','2009-12-28','2010-01-01','2010-04-02','2010-04-05','2010-05-03','2010-05-31','2010-12-27','2010-12-28','2011-01-03','2011-04-22','2011-04-25','2011-05-02','2011-05-30']"
   ]
  },
  {
   "cell_type": "code",
   "execution_count": 50,
   "metadata": {},
   "outputs": [],
   "source": [
    "#Adding holiday list\n",
    "for i in holiday_list:\n",
    "    merged_Df.loc[merged_Df.Date == i,'is_holiday'] = 1"
   ]
  },
  {
   "cell_type": "code",
   "execution_count": 51,
   "metadata": {},
   "outputs": [
    {
     "name": "stdout",
     "output_type": "stream",
     "text": [
      "35.0\n"
     ]
    }
   ],
   "source": [
    "# Week before the holiday\n",
    "date_range = (merged_Df['Date'] >= '2009-12-18') & (merged_Df['Date'] <= '2009-12-24')\n",
    "    \n",
    "pre_total_sales = merged_Df.loc[date_range]['counts'].sum()\n",
    "print(pre_total_sales)\n"
   ]
  },
  {
   "cell_type": "markdown",
   "metadata": {},
   "source": [
    "#### 3.2.3.4 Pre holiday orders (7 days)"
   ]
  },
  {
   "cell_type": "code",
   "execution_count": 52,
   "metadata": {},
   "outputs": [
    {
     "name": "stdout",
     "output_type": "stream",
     "text": [
      "Pre Total orders for holiday list - 2009-12-25 is 35.0\n",
      "Pre Total orders for holiday list - 2009-12-28 is 35.0\n",
      "Pre Total orders for holiday list - 2010-01-01 is 49.0\n",
      "Pre Total orders for holiday list - 2010-04-02 is 44.0\n",
      "Pre Total orders for holiday list - 2010-04-05 is 39.0\n",
      "Pre Total orders for holiday list - 2010-05-03 is 38.0\n",
      "Pre Total orders for holiday list - 2010-05-31 is 43.0\n",
      "Pre Total orders for holiday list - 2010-12-27 is 41.0\n",
      "Pre Total orders for holiday list - 2010-12-28 is 40.0\n",
      "Pre Total orders for holiday list - 2011-01-03 is 49.0\n",
      "Pre Total orders for holiday list - 2011-04-22 is 39.0\n",
      "Pre Total orders for holiday list - 2011-04-25 is 45.0\n",
      "Pre Total orders for holiday list - 2011-05-02 is 38.0\n",
      "Pre Total orders for holiday list - 2011-05-30 is 55.0\n"
     ]
    }
   ],
   "source": [
    "#before holiday \n",
    "pre_dict = {}\n",
    "for i in holiday_list:\n",
    "    date_range = (merged_Df['Date'] >=  (pd.to_datetime(i) - pd.to_timedelta(7, unit='d'))) & (merged_Df['Date'] <= (pd.to_datetime(i) - pd.to_timedelta(1, unit='d')))\n",
    "    \n",
    "    pre_total_sales = merged_Df.loc[date_range]['counts'].sum()\n",
    "    print(\"Pre Total orders for holiday list - {} is {}\".format(i, pre_total_sales))\n",
    "    pre_dict[i]=pre_total_sales\n",
    "\n",
    "pre_sales_df = pd.DataFrame(pre_dict.items(), columns=['Date', 'Pre_orders'])\n"
   ]
  },
  {
   "cell_type": "markdown",
   "metadata": {},
   "source": [
    "#### 3.2.3.5 Post holiday orders (7 days)"
   ]
  },
  {
   "cell_type": "code",
   "execution_count": 53,
   "metadata": {},
   "outputs": [
    {
     "name": "stdout",
     "output_type": "stream",
     "text": [
      "Post Total orders for holiday list - 2009-12-25 is 49.0\n",
      "Post Total orders for holiday list - 2009-12-28 is 44.0\n",
      "Post Total orders for holiday list - 2010-01-01 is 47.0\n",
      "Post Total orders for holiday list - 2010-04-02 is 39.0\n",
      "Post Total orders for holiday list - 2010-04-05 is 37.0\n",
      "Post Total orders for holiday list - 2010-05-03 is 52.0\n",
      "Post Total orders for holiday list - 2010-05-31 is 38.0\n",
      "Post Total orders for holiday list - 2010-12-27 is 49.0\n",
      "Post Total orders for holiday list - 2010-12-28 is 44.0\n",
      "Post Total orders for holiday list - 2011-01-03 is 45.0\n",
      "Post Total orders for holiday list - 2011-04-22 is 44.0\n",
      "Post Total orders for holiday list - 2011-04-25 is 38.0\n",
      "Post Total orders for holiday list - 2011-05-02 is 49.0\n",
      "Post Total orders for holiday list - 2011-05-30 is 52.0\n"
     ]
    }
   ],
   "source": [
    "#After holiday\n",
    "post_hol_sales = {}\n",
    "for i in holiday_list:\n",
    "    date_range = (merged_Df['Date'] >=  (pd.to_datetime(i) + pd.to_timedelta(1, unit='d'))) & (merged_Df['Date'] <= (pd.to_datetime(i) + pd.to_timedelta(7, unit='d')))\n",
    "    \n",
    "    post_sales = merged_Df.loc[date_range]['counts'].sum()\n",
    "    print(\"Post Total orders for holiday list - {} is {}\".format(i, post_sales))\n",
    "    post_hol_sales[i]=post_sales\n",
    "\n",
    "post_sales_df = pd.DataFrame(post_hol_sales.items(), columns=['Date', 'Post_orders'])\n"
   ]
  },
  {
   "cell_type": "code",
   "execution_count": 54,
   "metadata": {},
   "outputs": [
    {
     "name": "stdout",
     "output_type": "stream",
     "text": [
      "Pre Total orders for holiday list - 2009-12-25 is 148.0\n",
      "Pre Total orders for holiday list - 2009-12-28 is 169.0\n",
      "Pre Total orders for holiday list - 2010-01-01 is 185.0\n",
      "Pre Total orders for holiday list - 2010-04-02 is 205.0\n",
      "Pre Total orders for holiday list - 2010-04-05 is 197.0\n",
      "Pre Total orders for holiday list - 2010-05-03 is 179.0\n",
      "Pre Total orders for holiday list - 2010-05-31 is 189.0\n",
      "Pre Total orders for holiday list - 2010-12-27 is 213.0\n",
      "Pre Total orders for holiday list - 2010-12-28 is 213.0\n",
      "Pre Total orders for holiday list - 2011-01-03 is 202.0\n",
      "Pre Total orders for holiday list - 2011-04-22 is 195.0\n",
      "Pre Total orders for holiday list - 2011-04-25 is 188.0\n",
      "Pre Total orders for holiday list - 2011-05-02 is 184.0\n",
      "Pre Total orders for holiday list - 2011-05-30 is 215.0\n",
      "Post Total orders for holiday list - 2009-12-25 is 196.0\n",
      "Post Total orders for holiday list - 2009-12-28 is 222.0\n",
      "Post Total orders for holiday list - 2010-01-01 is 212.0\n",
      "Post Total orders for holiday list - 2010-04-02 is 179.0\n",
      "Post Total orders for holiday list - 2010-04-05 is 182.0\n",
      "Post Total orders for holiday list - 2010-05-03 is 185.0\n",
      "Post Total orders for holiday list - 2010-05-31 is 181.0\n",
      "Post Total orders for holiday list - 2010-12-27 is 195.0\n",
      "Post Total orders for holiday list - 2010-12-28 is 199.0\n",
      "Post Total orders for holiday list - 2011-01-03 is 202.0\n",
      "Post Total orders for holiday list - 2011-04-22 is 204.0\n",
      "Post Total orders for holiday list - 2011-04-25 is 214.0\n",
      "Post Total orders for holiday list - 2011-05-02 is 225.0\n",
      "Post Total orders for holiday list - 2011-05-30 is 201.0\n"
     ]
    }
   ],
   "source": [
    "#before holiday \n",
    "pre_dict = {}\n",
    "for i in holiday_list:\n",
    "    date_range = (merged_Df['Date'] >=  (pd.to_datetime(i) - pd.to_timedelta(30, unit='d'))) & (merged_Df['Date'] <= (pd.to_datetime(i) - pd.to_timedelta(1, unit='d')))\n",
    "    \n",
    "    pre_total_sales = merged_Df.loc[date_range]['counts'].sum()\n",
    "    print(\"Pre Total orders for holiday list - {} is {}\".format(i, pre_total_sales))\n",
    "    pre_dict[i]=pre_total_sales\n",
    "\n",
    "pre_30_sales_df = pd.DataFrame(pre_dict.items(), columns=['Date', 'Pre_orders'])\n",
    "\n",
    "#After holiday\n",
    "post_hol_sales = {}\n",
    "for i in holiday_list:\n",
    "    date_range = (merged_Df['Date'] >=  (pd.to_datetime(i) + pd.to_timedelta(1, unit='d'))) & (merged_Df['Date'] <= (pd.to_datetime(i) + pd.to_timedelta(30, unit='d')))\n",
    "    \n",
    "    post_sales = merged_Df.loc[date_range]['counts'].sum()\n",
    "    print(\"Post Total orders for holiday list - {} is {}\".format(i, post_sales))\n",
    "    post_hol_sales[i]=post_sales\n",
    "\n",
    "post_30_sales_df = pd.DataFrame(post_hol_sales.items(), columns=['Date', 'Post_orders'])\n",
    "\n"
   ]
  },
  {
   "cell_type": "code",
   "execution_count": 55,
   "metadata": {},
   "outputs": [
    {
     "data": {
      "text/html": [
       "<div>\n",
       "<style scoped>\n",
       "    .dataframe tbody tr th:only-of-type {\n",
       "        vertical-align: middle;\n",
       "    }\n",
       "\n",
       "    .dataframe tbody tr th {\n",
       "        vertical-align: top;\n",
       "    }\n",
       "\n",
       "    .dataframe thead th {\n",
       "        text-align: right;\n",
       "    }\n",
       "</style>\n",
       "<table border=\"1\" class=\"dataframe\">\n",
       "  <thead>\n",
       "    <tr style=\"text-align: right;\">\n",
       "      <th></th>\n",
       "      <th>Date</th>\n",
       "      <th>Pre_orders</th>\n",
       "      <th>Post_orders</th>\n",
       "    </tr>\n",
       "  </thead>\n",
       "  <tbody>\n",
       "    <tr>\n",
       "      <th>0</th>\n",
       "      <td>2009-12-25</td>\n",
       "      <td>35.0</td>\n",
       "      <td>49.0</td>\n",
       "    </tr>\n",
       "    <tr>\n",
       "      <th>1</th>\n",
       "      <td>2009-12-28</td>\n",
       "      <td>35.0</td>\n",
       "      <td>44.0</td>\n",
       "    </tr>\n",
       "    <tr>\n",
       "      <th>2</th>\n",
       "      <td>2010-01-01</td>\n",
       "      <td>49.0</td>\n",
       "      <td>47.0</td>\n",
       "    </tr>\n",
       "    <tr>\n",
       "      <th>3</th>\n",
       "      <td>2010-04-02</td>\n",
       "      <td>44.0</td>\n",
       "      <td>39.0</td>\n",
       "    </tr>\n",
       "    <tr>\n",
       "      <th>4</th>\n",
       "      <td>2010-04-05</td>\n",
       "      <td>39.0</td>\n",
       "      <td>37.0</td>\n",
       "    </tr>\n",
       "    <tr>\n",
       "      <th>5</th>\n",
       "      <td>2010-05-03</td>\n",
       "      <td>38.0</td>\n",
       "      <td>52.0</td>\n",
       "    </tr>\n",
       "    <tr>\n",
       "      <th>6</th>\n",
       "      <td>2010-05-31</td>\n",
       "      <td>43.0</td>\n",
       "      <td>38.0</td>\n",
       "    </tr>\n",
       "    <tr>\n",
       "      <th>7</th>\n",
       "      <td>2010-12-27</td>\n",
       "      <td>41.0</td>\n",
       "      <td>49.0</td>\n",
       "    </tr>\n",
       "    <tr>\n",
       "      <th>8</th>\n",
       "      <td>2010-12-28</td>\n",
       "      <td>40.0</td>\n",
       "      <td>44.0</td>\n",
       "    </tr>\n",
       "    <tr>\n",
       "      <th>9</th>\n",
       "      <td>2011-01-03</td>\n",
       "      <td>49.0</td>\n",
       "      <td>45.0</td>\n",
       "    </tr>\n",
       "    <tr>\n",
       "      <th>10</th>\n",
       "      <td>2011-04-22</td>\n",
       "      <td>39.0</td>\n",
       "      <td>44.0</td>\n",
       "    </tr>\n",
       "    <tr>\n",
       "      <th>11</th>\n",
       "      <td>2011-04-25</td>\n",
       "      <td>45.0</td>\n",
       "      <td>38.0</td>\n",
       "    </tr>\n",
       "    <tr>\n",
       "      <th>12</th>\n",
       "      <td>2011-05-02</td>\n",
       "      <td>38.0</td>\n",
       "      <td>49.0</td>\n",
       "    </tr>\n",
       "    <tr>\n",
       "      <th>13</th>\n",
       "      <td>2011-05-30</td>\n",
       "      <td>55.0</td>\n",
       "      <td>52.0</td>\n",
       "    </tr>\n",
       "  </tbody>\n",
       "</table>\n",
       "</div>"
      ],
      "text/plain": [
       "          Date  Pre_orders  Post_orders\n",
       "0   2009-12-25        35.0         49.0\n",
       "1   2009-12-28        35.0         44.0\n",
       "2   2010-01-01        49.0         47.0\n",
       "3   2010-04-02        44.0         39.0\n",
       "4   2010-04-05        39.0         37.0\n",
       "5   2010-05-03        38.0         52.0\n",
       "6   2010-05-31        43.0         38.0\n",
       "7   2010-12-27        41.0         49.0\n",
       "8   2010-12-28        40.0         44.0\n",
       "9   2011-01-03        49.0         45.0\n",
       "10  2011-04-22        39.0         44.0\n",
       "11  2011-04-25        45.0         38.0\n",
       "12  2011-05-02        38.0         49.0\n",
       "13  2011-05-30        55.0         52.0"
      ]
     },
     "execution_count": 55,
     "metadata": {},
     "output_type": "execute_result"
    }
   ],
   "source": [
    "pre_post_sales_df = pd.merge(pre_sales_df,post_sales_df,how='inner',on='Date')\n",
    "pre_post_sales_df\n"
   ]
  },
  {
   "cell_type": "code",
   "execution_count": 56,
   "metadata": {},
   "outputs": [],
   "source": [
    "merged_Df['is_holiday'] = merged_Df['is_holiday'].fillna(0)"
   ]
  },
  {
   "cell_type": "markdown",
   "metadata": {},
   "source": [
    "#### 3.2.3.6 Pre (7,30 days) and Post (30 days) orders "
   ]
  },
  {
   "cell_type": "code",
   "execution_count": 57,
   "metadata": {},
   "outputs": [],
   "source": [
    "all_Days_lst = all_Days_df['Date'].tolist()\n",
    "\n",
    "for i in all_Days_lst:\n",
    "     if pd.to_datetime(i) > pd.to_datetime('2009-12-07'):\n",
    "         date_range = (merged_Df['Date'] >=  (pd.to_datetime(i) - pd.to_timedelta(7, unit='d'))) & (merged_Df['Date'] <= (pd.to_datetime(i) - pd.to_timedelta(1, unit='d')))         \n",
    "         valuessss = merged_Df.loc[date_range]['counts'].sum()\n",
    "         merged_Df.loc[merged_Df.Date == i,'Pre_wk_orders'] = valuessss\n",
    "\n",
    "for i in all_Days_lst:\n",
    "     if pd.to_datetime(i) > pd.to_datetime('2009-12-30'):\n",
    "         date_range = (merged_Df['Date'] >=  (pd.to_datetime(i) - pd.to_timedelta(30, unit='d'))) & (merged_Df['Date'] <= (pd.to_datetime(i) - pd.to_timedelta(1, unit='d')))         \n",
    "         valuessss = merged_Df.loc[date_range]['counts'].sum()\n",
    "         merged_Df.loc[merged_Df.Date == i,'Pre_30_orders'] = valuessss\n",
    "\n",
    "for i in all_Days_lst:\n",
    "    date_range = (merged_Df['Date'] >=  (pd.to_datetime(i))) & (merged_Df['Date'] <= (pd.to_datetime(i) + pd.to_timedelta(30, unit='d')))         \n",
    "    valuessss = merged_Df.loc[date_range]['counts'].sum()\n",
    "    merged_Df.loc[merged_Df.Date == i,'Post_30_orders'] = valuessss         "
   ]
  },
  {
   "cell_type": "code",
   "execution_count": 58,
   "metadata": {},
   "outputs": [
    {
     "data": {
      "text/html": [
       "<div>\n",
       "<style scoped>\n",
       "    .dataframe tbody tr th:only-of-type {\n",
       "        vertical-align: middle;\n",
       "    }\n",
       "\n",
       "    .dataframe tbody tr th {\n",
       "        vertical-align: top;\n",
       "    }\n",
       "\n",
       "    .dataframe thead th {\n",
       "        text-align: right;\n",
       "    }\n",
       "</style>\n",
       "<table border=\"1\" class=\"dataframe\">\n",
       "  <thead>\n",
       "    <tr style=\"text-align: right;\">\n",
       "      <th></th>\n",
       "      <th>Date</th>\n",
       "      <th>counts</th>\n",
       "      <th>TotalPrice</th>\n",
       "      <th>Average_Price</th>\n",
       "      <th>is_holiday</th>\n",
       "      <th>Pre_wk_orders</th>\n",
       "      <th>Pre_30_orders</th>\n",
       "      <th>Post_30_orders</th>\n",
       "    </tr>\n",
       "  </thead>\n",
       "  <tbody>\n",
       "    <tr>\n",
       "      <th>7</th>\n",
       "      <td>2009-12-08</td>\n",
       "      <td>13.0</td>\n",
       "      <td>2649.18</td>\n",
       "      <td>203.783077</td>\n",
       "      <td>0.0</td>\n",
       "      <td>48.0</td>\n",
       "      <td>NaN</td>\n",
       "      <td>195.0</td>\n",
       "    </tr>\n",
       "    <tr>\n",
       "      <th>8</th>\n",
       "      <td>2009-12-09</td>\n",
       "      <td>6.0</td>\n",
       "      <td>2194.38</td>\n",
       "      <td>365.730000</td>\n",
       "      <td>0.0</td>\n",
       "      <td>49.0</td>\n",
       "      <td>NaN</td>\n",
       "      <td>190.0</td>\n",
       "    </tr>\n",
       "    <tr>\n",
       "      <th>9</th>\n",
       "      <td>2009-12-10</td>\n",
       "      <td>7.0</td>\n",
       "      <td>702.91</td>\n",
       "      <td>100.415714</td>\n",
       "      <td>0.0</td>\n",
       "      <td>48.0</td>\n",
       "      <td>NaN</td>\n",
       "      <td>191.0</td>\n",
       "    </tr>\n",
       "    <tr>\n",
       "      <th>10</th>\n",
       "      <td>2009-12-11</td>\n",
       "      <td>4.0</td>\n",
       "      <td>-51.30</td>\n",
       "      <td>-12.825000</td>\n",
       "      <td>0.0</td>\n",
       "      <td>49.0</td>\n",
       "      <td>NaN</td>\n",
       "      <td>185.0</td>\n",
       "    </tr>\n",
       "    <tr>\n",
       "      <th>11</th>\n",
       "      <td>2009-12-12</td>\n",
       "      <td>7.0</td>\n",
       "      <td>NaN</td>\n",
       "      <td>NaN</td>\n",
       "      <td>0.0</td>\n",
       "      <td>46.0</td>\n",
       "      <td>NaN</td>\n",
       "      <td>192.0</td>\n",
       "    </tr>\n",
       "    <tr>\n",
       "      <th>...</th>\n",
       "      <td>...</td>\n",
       "      <td>...</td>\n",
       "      <td>...</td>\n",
       "      <td>...</td>\n",
       "      <td>...</td>\n",
       "      <td>...</td>\n",
       "      <td>...</td>\n",
       "      <td>...</td>\n",
       "    </tr>\n",
       "    <tr>\n",
       "      <th>734</th>\n",
       "      <td>2011-12-05</td>\n",
       "      <td>14.0</td>\n",
       "      <td>3036.07</td>\n",
       "      <td>216.862143</td>\n",
       "      <td>0.0</td>\n",
       "      <td>79.0</td>\n",
       "      <td>361.0</td>\n",
       "      <td>61.0</td>\n",
       "    </tr>\n",
       "    <tr>\n",
       "      <th>735</th>\n",
       "      <td>2011-12-06</td>\n",
       "      <td>13.0</td>\n",
       "      <td>3921.06</td>\n",
       "      <td>301.620000</td>\n",
       "      <td>0.0</td>\n",
       "      <td>82.0</td>\n",
       "      <td>368.0</td>\n",
       "      <td>47.0</td>\n",
       "    </tr>\n",
       "    <tr>\n",
       "      <th>736</th>\n",
       "      <td>2011-12-07</td>\n",
       "      <td>17.0</td>\n",
       "      <td>20047.64</td>\n",
       "      <td>1179.272941</td>\n",
       "      <td>0.0</td>\n",
       "      <td>84.0</td>\n",
       "      <td>373.0</td>\n",
       "      <td>34.0</td>\n",
       "    </tr>\n",
       "    <tr>\n",
       "      <th>737</th>\n",
       "      <td>2011-12-08</td>\n",
       "      <td>9.0</td>\n",
       "      <td>2979.88</td>\n",
       "      <td>331.097778</td>\n",
       "      <td>0.0</td>\n",
       "      <td>81.0</td>\n",
       "      <td>379.0</td>\n",
       "      <td>17.0</td>\n",
       "    </tr>\n",
       "    <tr>\n",
       "      <th>738</th>\n",
       "      <td>2011-12-09</td>\n",
       "      <td>8.0</td>\n",
       "      <td>4804.50</td>\n",
       "      <td>600.562500</td>\n",
       "      <td>0.0</td>\n",
       "      <td>81.0</td>\n",
       "      <td>375.0</td>\n",
       "      <td>8.0</td>\n",
       "    </tr>\n",
       "  </tbody>\n",
       "</table>\n",
       "<p>732 rows × 8 columns</p>\n",
       "</div>"
      ],
      "text/plain": [
       "          Date  counts  TotalPrice  Average_Price  is_holiday  Pre_wk_orders  \\\n",
       "7   2009-12-08    13.0     2649.18     203.783077         0.0           48.0   \n",
       "8   2009-12-09     6.0     2194.38     365.730000         0.0           49.0   \n",
       "9   2009-12-10     7.0      702.91     100.415714         0.0           48.0   \n",
       "10  2009-12-11     4.0      -51.30     -12.825000         0.0           49.0   \n",
       "11  2009-12-12     7.0         NaN            NaN         0.0           46.0   \n",
       "..         ...     ...         ...            ...         ...            ...   \n",
       "734 2011-12-05    14.0     3036.07     216.862143         0.0           79.0   \n",
       "735 2011-12-06    13.0     3921.06     301.620000         0.0           82.0   \n",
       "736 2011-12-07    17.0    20047.64    1179.272941         0.0           84.0   \n",
       "737 2011-12-08     9.0     2979.88     331.097778         0.0           81.0   \n",
       "738 2011-12-09     8.0     4804.50     600.562500         0.0           81.0   \n",
       "\n",
       "     Pre_30_orders  Post_30_orders  \n",
       "7              NaN           195.0  \n",
       "8              NaN           190.0  \n",
       "9              NaN           191.0  \n",
       "10             NaN           185.0  \n",
       "11             NaN           192.0  \n",
       "..             ...             ...  \n",
       "734          361.0            61.0  \n",
       "735          368.0            47.0  \n",
       "736          373.0            34.0  \n",
       "737          379.0            17.0  \n",
       "738          375.0             8.0  \n",
       "\n",
       "[732 rows x 8 columns]"
      ]
     },
     "execution_count": 58,
     "metadata": {},
     "output_type": "execute_result"
    }
   ],
   "source": [
    "merged_Df[merged_Df['Pre_wk_orders'] > 0]"
   ]
  },
  {
   "cell_type": "code",
   "execution_count": 59,
   "metadata": {},
   "outputs": [],
   "source": [
    "for i in holiday_list:\n",
    "    if pd.to_datetime(i).month == 4 or pd.to_datetime(i).month == 5:\n",
    "        merged_Df.loc[merged_Df.Date == i,'Sales_boost'] = 1\n",
    "\n",
    "merged_Df[merged_Df.Sales_boost == 1]\n",
    "merged_Df['Sales_boost'] = merged_Df['Sales_boost'].fillna(0)"
   ]
  },
  {
   "cell_type": "code",
   "execution_count": 60,
   "metadata": {},
   "outputs": [
    {
     "data": {
      "text/html": [
       "<div>\n",
       "<style scoped>\n",
       "    .dataframe tbody tr th:only-of-type {\n",
       "        vertical-align: middle;\n",
       "    }\n",
       "\n",
       "    .dataframe tbody tr th {\n",
       "        vertical-align: top;\n",
       "    }\n",
       "\n",
       "    .dataframe thead th {\n",
       "        text-align: right;\n",
       "    }\n",
       "</style>\n",
       "<table border=\"1\" class=\"dataframe\">\n",
       "  <thead>\n",
       "    <tr style=\"text-align: right;\">\n",
       "      <th></th>\n",
       "      <th>Date</th>\n",
       "      <th>counts</th>\n",
       "      <th>TotalPrice</th>\n",
       "      <th>Average_Price</th>\n",
       "      <th>is_holiday</th>\n",
       "      <th>Pre_wk_orders</th>\n",
       "      <th>Pre_30_orders</th>\n",
       "      <th>Post_30_orders</th>\n",
       "      <th>Sales_boost</th>\n",
       "    </tr>\n",
       "  </thead>\n",
       "  <tbody>\n",
       "    <tr>\n",
       "      <th>0</th>\n",
       "      <td>2009-12-01</td>\n",
       "      <td>12.0</td>\n",
       "      <td>6480.32</td>\n",
       "      <td>540.026667</td>\n",
       "      <td>0.0</td>\n",
       "      <td>NaN</td>\n",
       "      <td>NaN</td>\n",
       "      <td>197.0</td>\n",
       "      <td>0.0</td>\n",
       "    </tr>\n",
       "    <tr>\n",
       "      <th>1</th>\n",
       "      <td>2009-12-02</td>\n",
       "      <td>7.0</td>\n",
       "      <td>7039.22</td>\n",
       "      <td>1005.602857</td>\n",
       "      <td>0.0</td>\n",
       "      <td>NaN</td>\n",
       "      <td>NaN</td>\n",
       "      <td>192.0</td>\n",
       "      <td>0.0</td>\n",
       "    </tr>\n",
       "    <tr>\n",
       "      <th>2</th>\n",
       "      <td>2009-12-03</td>\n",
       "      <td>6.0</td>\n",
       "      <td>752.25</td>\n",
       "      <td>125.375000</td>\n",
       "      <td>0.0</td>\n",
       "      <td>NaN</td>\n",
       "      <td>NaN</td>\n",
       "      <td>192.0</td>\n",
       "      <td>0.0</td>\n",
       "    </tr>\n",
       "    <tr>\n",
       "      <th>3</th>\n",
       "      <td>2009-12-04</td>\n",
       "      <td>7.0</td>\n",
       "      <td>2518.07</td>\n",
       "      <td>359.724286</td>\n",
       "      <td>0.0</td>\n",
       "      <td>NaN</td>\n",
       "      <td>NaN</td>\n",
       "      <td>193.0</td>\n",
       "      <td>0.0</td>\n",
       "    </tr>\n",
       "    <tr>\n",
       "      <th>4</th>\n",
       "      <td>2009-12-05</td>\n",
       "      <td>1.0</td>\n",
       "      <td>760.69</td>\n",
       "      <td>760.690000</td>\n",
       "      <td>0.0</td>\n",
       "      <td>NaN</td>\n",
       "      <td>NaN</td>\n",
       "      <td>188.0</td>\n",
       "      <td>0.0</td>\n",
       "    </tr>\n",
       "  </tbody>\n",
       "</table>\n",
       "</div>"
      ],
      "text/plain": [
       "        Date  counts  TotalPrice  Average_Price  is_holiday  Pre_wk_orders  \\\n",
       "0 2009-12-01    12.0     6480.32     540.026667         0.0            NaN   \n",
       "1 2009-12-02     7.0     7039.22    1005.602857         0.0            NaN   \n",
       "2 2009-12-03     6.0      752.25     125.375000         0.0            NaN   \n",
       "3 2009-12-04     7.0     2518.07     359.724286         0.0            NaN   \n",
       "4 2009-12-05     1.0      760.69     760.690000         0.0            NaN   \n",
       "\n",
       "   Pre_30_orders  Post_30_orders  Sales_boost  \n",
       "0            NaN           197.0          0.0  \n",
       "1            NaN           192.0          0.0  \n",
       "2            NaN           192.0          0.0  \n",
       "3            NaN           193.0          0.0  \n",
       "4            NaN           188.0          0.0  "
      ]
     },
     "execution_count": 60,
     "metadata": {},
     "output_type": "execute_result"
    }
   ],
   "source": [
    "merged_Df.head()"
   ]
  },
  {
   "cell_type": "code",
   "execution_count": 61,
   "metadata": {},
   "outputs": [],
   "source": [
    "merged_Df['Pre_wk_orders'] = merged_Df['Pre_wk_orders'].fillna(0)\n",
    "merged_Df['Pre_30_orders'] = merged_Df['Pre_30_orders'].fillna(0)\n"
   ]
  },
  {
   "cell_type": "code",
   "execution_count": 62,
   "metadata": {},
   "outputs": [
    {
     "data": {
      "text/html": [
       "<div>\n",
       "<style scoped>\n",
       "    .dataframe tbody tr th:only-of-type {\n",
       "        vertical-align: middle;\n",
       "    }\n",
       "\n",
       "    .dataframe tbody tr th {\n",
       "        vertical-align: top;\n",
       "    }\n",
       "\n",
       "    .dataframe thead th {\n",
       "        text-align: right;\n",
       "    }\n",
       "</style>\n",
       "<table border=\"1\" class=\"dataframe\">\n",
       "  <thead>\n",
       "    <tr style=\"text-align: right;\">\n",
       "      <th></th>\n",
       "      <th>Date</th>\n",
       "      <th>counts</th>\n",
       "      <th>TotalPrice</th>\n",
       "      <th>Average_Price</th>\n",
       "      <th>is_holiday</th>\n",
       "      <th>Pre_wk_orders</th>\n",
       "      <th>Pre_30_orders</th>\n",
       "      <th>Post_30_orders</th>\n",
       "      <th>Sales_boost</th>\n",
       "      <th>Invoice</th>\n",
       "      <th>...</th>\n",
       "      <th>Price</th>\n",
       "      <th>Customer_Id</th>\n",
       "      <th>Country</th>\n",
       "      <th>Day_of_week</th>\n",
       "      <th>Hour</th>\n",
       "      <th>Month</th>\n",
       "      <th>Year</th>\n",
       "      <th>Day</th>\n",
       "      <th>Weeknumber</th>\n",
       "      <th>Price_Total</th>\n",
       "    </tr>\n",
       "  </thead>\n",
       "  <tbody>\n",
       "    <tr>\n",
       "      <th>0</th>\n",
       "      <td>2009-12-01</td>\n",
       "      <td>12.0</td>\n",
       "      <td>6480.32</td>\n",
       "      <td>540.026667</td>\n",
       "      <td>0.0</td>\n",
       "      <td>0.0</td>\n",
       "      <td>0.0</td>\n",
       "      <td>197.0</td>\n",
       "      <td>0.0</td>\n",
       "      <td>489439</td>\n",
       "      <td>...</td>\n",
       "      <td>1.45</td>\n",
       "      <td>12682.0</td>\n",
       "      <td>France</td>\n",
       "      <td>Tuesday</td>\n",
       "      <td>9.0</td>\n",
       "      <td>12.0</td>\n",
       "      <td>2009.0</td>\n",
       "      <td>1.0</td>\n",
       "      <td>49.0</td>\n",
       "      <td>17.40</td>\n",
       "    </tr>\n",
       "    <tr>\n",
       "      <th>1</th>\n",
       "      <td>2009-12-01</td>\n",
       "      <td>12.0</td>\n",
       "      <td>6480.32</td>\n",
       "      <td>540.026667</td>\n",
       "      <td>0.0</td>\n",
       "      <td>0.0</td>\n",
       "      <td>0.0</td>\n",
       "      <td>197.0</td>\n",
       "      <td>0.0</td>\n",
       "      <td>489439</td>\n",
       "      <td>...</td>\n",
       "      <td>4.95</td>\n",
       "      <td>12682.0</td>\n",
       "      <td>France</td>\n",
       "      <td>Tuesday</td>\n",
       "      <td>9.0</td>\n",
       "      <td>12.0</td>\n",
       "      <td>2009.0</td>\n",
       "      <td>1.0</td>\n",
       "      <td>49.0</td>\n",
       "      <td>44.55</td>\n",
       "    </tr>\n",
       "    <tr>\n",
       "      <th>2</th>\n",
       "      <td>2009-12-01</td>\n",
       "      <td>12.0</td>\n",
       "      <td>6480.32</td>\n",
       "      <td>540.026667</td>\n",
       "      <td>0.0</td>\n",
       "      <td>0.0</td>\n",
       "      <td>0.0</td>\n",
       "      <td>197.0</td>\n",
       "      <td>0.0</td>\n",
       "      <td>489439</td>\n",
       "      <td>...</td>\n",
       "      <td>4.95</td>\n",
       "      <td>12682.0</td>\n",
       "      <td>France</td>\n",
       "      <td>Tuesday</td>\n",
       "      <td>9.0</td>\n",
       "      <td>12.0</td>\n",
       "      <td>2009.0</td>\n",
       "      <td>1.0</td>\n",
       "      <td>49.0</td>\n",
       "      <td>44.55</td>\n",
       "    </tr>\n",
       "    <tr>\n",
       "      <th>3</th>\n",
       "      <td>2009-12-01</td>\n",
       "      <td>12.0</td>\n",
       "      <td>6480.32</td>\n",
       "      <td>540.026667</td>\n",
       "      <td>0.0</td>\n",
       "      <td>0.0</td>\n",
       "      <td>0.0</td>\n",
       "      <td>197.0</td>\n",
       "      <td>0.0</td>\n",
       "      <td>489439</td>\n",
       "      <td>...</td>\n",
       "      <td>2.55</td>\n",
       "      <td>12682.0</td>\n",
       "      <td>France</td>\n",
       "      <td>Tuesday</td>\n",
       "      <td>9.0</td>\n",
       "      <td>12.0</td>\n",
       "      <td>2009.0</td>\n",
       "      <td>1.0</td>\n",
       "      <td>49.0</td>\n",
       "      <td>30.60</td>\n",
       "    </tr>\n",
       "    <tr>\n",
       "      <th>4</th>\n",
       "      <td>2009-12-01</td>\n",
       "      <td>12.0</td>\n",
       "      <td>6480.32</td>\n",
       "      <td>540.026667</td>\n",
       "      <td>0.0</td>\n",
       "      <td>0.0</td>\n",
       "      <td>0.0</td>\n",
       "      <td>197.0</td>\n",
       "      <td>0.0</td>\n",
       "      <td>489439</td>\n",
       "      <td>...</td>\n",
       "      <td>5.95</td>\n",
       "      <td>12682.0</td>\n",
       "      <td>France</td>\n",
       "      <td>Tuesday</td>\n",
       "      <td>9.0</td>\n",
       "      <td>12.0</td>\n",
       "      <td>2009.0</td>\n",
       "      <td>1.0</td>\n",
       "      <td>49.0</td>\n",
       "      <td>17.85</td>\n",
       "    </tr>\n",
       "  </tbody>\n",
       "</table>\n",
       "<p>5 rows × 23 columns</p>\n",
       "</div>"
      ],
      "text/plain": [
       "        Date  counts  TotalPrice  Average_Price  is_holiday  Pre_wk_orders  \\\n",
       "0 2009-12-01    12.0     6480.32     540.026667         0.0            0.0   \n",
       "1 2009-12-01    12.0     6480.32     540.026667         0.0            0.0   \n",
       "2 2009-12-01    12.0     6480.32     540.026667         0.0            0.0   \n",
       "3 2009-12-01    12.0     6480.32     540.026667         0.0            0.0   \n",
       "4 2009-12-01    12.0     6480.32     540.026667         0.0            0.0   \n",
       "\n",
       "   Pre_30_orders  Post_30_orders  Sales_boost Invoice  ... Price Customer_Id  \\\n",
       "0            0.0           197.0          0.0  489439  ...  1.45     12682.0   \n",
       "1            0.0           197.0          0.0  489439  ...  4.95     12682.0   \n",
       "2            0.0           197.0          0.0  489439  ...  4.95     12682.0   \n",
       "3            0.0           197.0          0.0  489439  ...  2.55     12682.0   \n",
       "4            0.0           197.0          0.0  489439  ...  5.95     12682.0   \n",
       "\n",
       "   Country  Day_of_week  Hour Month    Year  Day  Weeknumber  Price_Total  \n",
       "0   France      Tuesday   9.0  12.0  2009.0  1.0        49.0        17.40  \n",
       "1   France      Tuesday   9.0  12.0  2009.0  1.0        49.0        44.55  \n",
       "2   France      Tuesday   9.0  12.0  2009.0  1.0        49.0        44.55  \n",
       "3   France      Tuesday   9.0  12.0  2009.0  1.0        49.0        30.60  \n",
       "4   France      Tuesday   9.0  12.0  2009.0  1.0        49.0        17.85  \n",
       "\n",
       "[5 rows x 23 columns]"
      ]
     },
     "execution_count": 62,
     "metadata": {},
     "output_type": "execute_result"
    }
   ],
   "source": [
    "final_df = pd.merge(merged_Df,df_or,how='left',on = 'Date')\n",
    "final_df.head()"
   ]
  },
  {
   "cell_type": "code",
   "execution_count": 63,
   "metadata": {},
   "outputs": [],
   "source": [
    "final_trim_df = final_df[['counts','TotalPrice','Average_Price','is_holiday','Pre_wk_orders','Pre_30_orders','Post_30_orders','Sales_boost','Invoice','StockCode','Quantity','Price','Customer_Id','Hour','Month','Year','Day','Weeknumber']]"
   ]
  },
  {
   "cell_type": "code",
   "execution_count": 64,
   "metadata": {},
   "outputs": [
    {
     "data": {
      "text/plain": [
       "counts              0\n",
       "TotalPrice        161\n",
       "Average_Price     161\n",
       "is_holiday          0\n",
       "Pre_wk_orders       0\n",
       "Pre_30_orders       0\n",
       "Post_30_orders      0\n",
       "Sales_boost         0\n",
       "Invoice           161\n",
       "StockCode         161\n",
       "Quantity          161\n",
       "Price             161\n",
       "Customer_Id       161\n",
       "Hour              161\n",
       "Month             161\n",
       "Year              161\n",
       "Day               161\n",
       "Weeknumber        161\n",
       "dtype: int64"
      ]
     },
     "execution_count": 64,
     "metadata": {},
     "output_type": "execute_result"
    }
   ],
   "source": [
    "final_trim_df.isna().sum()"
   ]
  },
  {
   "cell_type": "code",
   "execution_count": 65,
   "metadata": {},
   "outputs": [
    {
     "data": {
      "text/plain": [
       "counts            0\n",
       "TotalPrice        0\n",
       "Average_Price     0\n",
       "is_holiday        0\n",
       "Pre_wk_orders     0\n",
       "Pre_30_orders     0\n",
       "Post_30_orders    0\n",
       "Sales_boost       0\n",
       "Invoice           0\n",
       "StockCode         0\n",
       "Quantity          0\n",
       "Price             0\n",
       "Customer_Id       0\n",
       "Hour              0\n",
       "Month             0\n",
       "Year              0\n",
       "Day               0\n",
       "Weeknumber        0\n",
       "dtype: int64"
      ]
     },
     "execution_count": 65,
     "metadata": {},
     "output_type": "execute_result"
    }
   ],
   "source": [
    "final_trim_df = final_trim_df[~(final_trim_df['Customer_Id'].isna())]\n",
    "final_trim_df.isna().sum()"
   ]
  },
  {
   "cell_type": "code",
   "execution_count": 66,
   "metadata": {},
   "outputs": [
    {
     "data": {
      "text/plain": [
       "counts            float64\n",
       "TotalPrice        float64\n",
       "Average_Price     float64\n",
       "is_holiday        float64\n",
       "Pre_wk_orders     float64\n",
       "Pre_30_orders     float64\n",
       "Post_30_orders    float64\n",
       "Sales_boost       float64\n",
       "Invoice            object\n",
       "StockCode          object\n",
       "Quantity          float64\n",
       "Price             float64\n",
       "Customer_Id       float64\n",
       "Hour              float64\n",
       "Month             float64\n",
       "Year              float64\n",
       "Day               float64\n",
       "Weeknumber        float64\n",
       "dtype: object"
      ]
     },
     "execution_count": 66,
     "metadata": {},
     "output_type": "execute_result"
    }
   ],
   "source": [
    "final_trim_df.dtypes"
   ]
  },
  {
   "cell_type": "markdown",
   "metadata": {},
   "source": [
    "### 3.2.4 PPScore "
   ]
  },
  {
   "cell_type": "code",
   "execution_count": 67,
   "metadata": {},
   "outputs": [
    {
     "data": {
      "text/plain": [
       "<AxesSubplot:xlabel='x', ylabel='y'>"
      ]
     },
     "execution_count": 67,
     "metadata": {},
     "output_type": "execute_result"
    },
    {
     "data": {
      "image/png": "[encoded data removed]",
      "text/plain": [
       "<Figure size 1152x864 with 2 Axes>"
      ]
     },
     "metadata": {
      "needs_background": "light"
     },
     "output_type": "display_data"
    }
   ],
   "source": [
    "matrix_df = pps.matrix(final_trim_df).pivot(columns='x', index='y',  values='ppscore')\n",
    "plt.figure(figsize=(16,12))\n",
    "sns.heatmap(matrix_df, annot=True)"
   ]
  },
  {
   "cell_type": "code",
   "execution_count": 68,
   "metadata": {},
   "outputs": [
    {
     "data": {
      "text/plain": [
       "<AxesSubplot:xlabel='x', ylabel='y'>"
      ]
     },
     "execution_count": 68,
     "metadata": {},
     "output_type": "execute_result"
    },
    {
     "data": {
      "image/png": "[encoded data removed]",
      "text/plain": [
       "<Figure size 1152x864 with 2 Axes>"
      ]
     },
     "metadata": {
      "needs_background": "light"
     },
     "output_type": "display_data"
    }
   ],
   "source": [
    "final_trim_1_df = final_trim_df[final_trim_df['StockCode'] == '85123A']\n",
    "\n",
    "matrix_df = pps.matrix(final_trim_1_df).pivot(columns='x', index='y',  values='ppscore')\n",
    "plt.figure(figsize=(16,12))\n",
    "sns.heatmap(matrix_df, annot=True)"
   ]
  },
  {
   "cell_type": "code",
   "execution_count": 69,
   "metadata": {},
   "outputs": [
    {
     "data": {
      "text/plain": [
       "<AxesSubplot:>"
      ]
     },
     "execution_count": 69,
     "metadata": {},
     "output_type": "execute_result"
    },
    {
     "data": {
      "image/png": "[encoded data removed]",
      "text/plain": [
       "<Figure size 1152x864 with 2 Axes>"
      ]
     },
     "metadata": {
      "needs_background": "light"
     },
     "output_type": "display_data"
    }
   ],
   "source": [
    "plt.figure(figsize=(16,12))\n",
    "sns.heatmap(final_trim_df.corr(),annot=True,fmt=\".2f\")"
   ]
  },
  {
   "cell_type": "markdown",
   "metadata": {},
   "source": [
    "## 3.3 Save data"
   ]
  },
  {
   "cell_type": "code",
   "execution_count": 70,
   "metadata": {},
   "outputs": [],
   "source": [
    "final_trim_df.to_csv('..\\data\\processed\\\\Final_EDA_NonUK.csv', index=False)"
   ]
  },
  {
   "cell_type": "code",
   "execution_count": null,
   "metadata": {},
   "outputs": [],
   "source": []
  }
 ],
 "metadata": {
  "interpreter": {
   "hash": "ba497f245e46cb05b3a0e0d97f033c41eced3dd6d67577311158664bed0781ff"
  },
  "kernelspec": {
   "display_name": "Python 3 (ipykernel)",
   "language": "python",
   "name": "python3"
  },
  "language_info": {
   "codemirror_mode": {
    "name": "ipython",
    "version": 3
   },
   "file_extension": ".py",
   "mimetype": "text/x-python",
   "name": "python",
   "nbconvert_exporter": "python",
   "pygments_lexer": "ipython3",
   "version": "3.7.11"
  }
 },
 "nbformat": 4,
 "nbformat_minor": 4
}
