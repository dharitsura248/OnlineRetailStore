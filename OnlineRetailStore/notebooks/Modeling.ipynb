{
 "cells": [
  {
   "cell_type": "markdown",
   "metadata": {},
   "source": [
    "# Imports"
   ]
  },
  {
   "cell_type": "code",
   "execution_count": 2,
   "metadata": {},
   "outputs": [],
   "source": [
    "import pandas as pd\n",
    "import numpy as np\n",
    "import os\n",
    "import pickle\n",
    "import matplotlib.pyplot as plt\n",
    "import seaborn as sns\n",
    "from sklearn import __version__ as sklearn_version\n",
    "from pycaret import *\n",
    "from pycaret.regression import *\n",
    "from sklearn.preprocessing import OneHotEncoder,MinMaxScaler\n",
    "from sklearn.model_selection import train_test_split,GridSearchCV,cross_val_score,RandomizedSearchCV,cross_validate\n",
    "from sklearn.linear_model import LinearRegression\n",
    "from sklearn.tree import DecisionTreeRegressor\n",
    "from sklearn.ensemble import GradientBoostingRegressor,RandomForestRegressor\n",
    "from sklearn.metrics import r2_score, mean_squared_error as mse, mean_absolute_error as mae"
   ]
  },
  {
   "cell_type": "markdown",
   "metadata": {},
   "source": [
    "# Load Model"
   ]
  },
  {
   "cell_type": "code",
   "execution_count": 10,
   "metadata": {},
   "outputs": [],
   "source": [
    "model_path = '../models/orders_post30_model.pkl'\n",
    "if os.path.exists(model_path):\n",
    "    with open(model_path, 'rb') as f:\n",
    "        model = pickle.load(f)\n",
    "else:\n",
    "    print(\"Expected model not found\")"
   ]
  },
  {
   "cell_type": "code",
   "execution_count": 11,
   "metadata": {},
   "outputs": [
    {
     "name": "stdout",
     "output_type": "stream",
     "text": [
      "Transformation Pipeline and Model Successfully Loaded\n"
     ]
    }
   ],
   "source": [
    "model = load_model('../models/orders_post30_model')"
   ]
  },
  {
   "cell_type": "code",
   "execution_count": 12,
   "metadata": {},
   "outputs": [
    {
     "data": {
      "text/plain": [
       "Pipeline(steps=[('dtypes',\n",
       "                 DataTypes_Auto_infer(display_types=False,\n",
       "                                      features_todrop=['Invoice', 'StockCode'],\n",
       "                                      ml_usecase='regression',\n",
       "                                      numerical_features=['counts',\n",
       "                                                          'TotalPrice',\n",
       "                                                          'Average_Price',\n",
       "                                                          'Pre_wk_orders',\n",
       "                                                          'Pre_30_orders',\n",
       "                                                          'Month', 'Year',\n",
       "                                                          'Day', 'Weeknumber'],\n",
       "                                      target='Post_30_orders')),\n",
       "                ('imputer',\n",
       "                 Simple_Imputer(categorical_strategy='not_available',\n",
       "                                fill_...\n",
       "                ('binn', 'passthrough'), ('rem_outliers', 'passthrough'),\n",
       "                ('cluster_all', 'passthrough'),\n",
       "                ('dummy', Dummify(target='Post_30_orders')),\n",
       "                ('fix_perfect', Remove_100(target='Post_30_orders')),\n",
       "                ('clean_names', Clean_Colum_Names()),\n",
       "                ('feature_select', 'passthrough'), ('fix_multi', 'passthrough'),\n",
       "                ('dfs', 'passthrough'), ('pca', 'passthrough'),\n",
       "                ['trained_model',\n",
       "                 RandomForestRegressor(n_jobs=-1, random_state=123)]])"
      ]
     },
     "execution_count": 12,
     "metadata": {},
     "output_type": "execute_result"
    }
   ],
   "source": [
    "model"
   ]
  },
  {
   "cell_type": "code",
   "execution_count": 4,
   "metadata": {},
   "outputs": [],
   "source": [
    "df = pd.read_csv('../models/Final_Features.csv')"
   ]
  },
  {
   "cell_type": "code",
   "execution_count": 3,
   "metadata": {},
   "outputs": [],
   "source": [
    "df_nonuk = pd.read_csv('../models/Final_Features_NonUK.csv')"
   ]
  },
  {
   "cell_type": "markdown",
   "metadata": {},
   "source": [
    "# Train Test Split  "
   ]
  },
  {
   "cell_type": "code",
   "execution_count": 5,
   "metadata": {},
   "outputs": [
    {
     "data": {
      "text/plain": [
       "Index(['counts', 'TotalPrice', 'Average_Price', 'Pre_wk_orders',\n",
       "       'Pre_30_orders', 'Month', 'Year', 'Day', 'Weeknumber',\n",
       "       'Post_30_orders'],\n",
       "      dtype='object')"
      ]
     },
     "execution_count": 5,
     "metadata": {},
     "output_type": "execute_result"
    }
   ],
   "source": [
    "df.columns"
   ]
  },
  {
   "cell_type": "code",
   "execution_count": 6,
   "metadata": {},
   "outputs": [
    {
     "data": {
      "text/html": [
       "<div>\n",
       "<style scoped>\n",
       "    .dataframe tbody tr th:only-of-type {\n",
       "        vertical-align: middle;\n",
       "    }\n",
       "\n",
       "    .dataframe tbody tr th {\n",
       "        vertical-align: top;\n",
       "    }\n",
       "\n",
       "    .dataframe thead th {\n",
       "        text-align: right;\n",
       "    }\n",
       "</style>\n",
       "<table border=\"1\" class=\"dataframe\">\n",
       "  <thead>\n",
       "    <tr style=\"text-align: right;\">\n",
       "      <th></th>\n",
       "      <th>counts</th>\n",
       "      <th>TotalPrice</th>\n",
       "      <th>Average_Price</th>\n",
       "      <th>Pre_wk_orders</th>\n",
       "      <th>Pre_30_orders</th>\n",
       "      <th>Month</th>\n",
       "      <th>Year</th>\n",
       "      <th>Day</th>\n",
       "      <th>Weeknumber</th>\n",
       "      <th>Post_30_orders</th>\n",
       "    </tr>\n",
       "  </thead>\n",
       "  <tbody>\n",
       "    <tr>\n",
       "      <th>0</th>\n",
       "      <td>125.0</td>\n",
       "      <td>36227.9</td>\n",
       "      <td>289.8232</td>\n",
       "      <td>0.0</td>\n",
       "      <td>0.0</td>\n",
       "      <td>12.0</td>\n",
       "      <td>2009.0</td>\n",
       "      <td>1.0</td>\n",
       "      <td>49.0</td>\n",
       "      <td>2403.0</td>\n",
       "    </tr>\n",
       "    <tr>\n",
       "      <th>1</th>\n",
       "      <td>125.0</td>\n",
       "      <td>36227.9</td>\n",
       "      <td>289.8232</td>\n",
       "      <td>0.0</td>\n",
       "      <td>0.0</td>\n",
       "      <td>12.0</td>\n",
       "      <td>2009.0</td>\n",
       "      <td>1.0</td>\n",
       "      <td>49.0</td>\n",
       "      <td>2403.0</td>\n",
       "    </tr>\n",
       "    <tr>\n",
       "      <th>2</th>\n",
       "      <td>125.0</td>\n",
       "      <td>36227.9</td>\n",
       "      <td>289.8232</td>\n",
       "      <td>0.0</td>\n",
       "      <td>0.0</td>\n",
       "      <td>12.0</td>\n",
       "      <td>2009.0</td>\n",
       "      <td>1.0</td>\n",
       "      <td>49.0</td>\n",
       "      <td>2403.0</td>\n",
       "    </tr>\n",
       "    <tr>\n",
       "      <th>3</th>\n",
       "      <td>125.0</td>\n",
       "      <td>36227.9</td>\n",
       "      <td>289.8232</td>\n",
       "      <td>0.0</td>\n",
       "      <td>0.0</td>\n",
       "      <td>12.0</td>\n",
       "      <td>2009.0</td>\n",
       "      <td>1.0</td>\n",
       "      <td>49.0</td>\n",
       "      <td>2403.0</td>\n",
       "    </tr>\n",
       "    <tr>\n",
       "      <th>4</th>\n",
       "      <td>125.0</td>\n",
       "      <td>36227.9</td>\n",
       "      <td>289.8232</td>\n",
       "      <td>0.0</td>\n",
       "      <td>0.0</td>\n",
       "      <td>12.0</td>\n",
       "      <td>2009.0</td>\n",
       "      <td>1.0</td>\n",
       "      <td>49.0</td>\n",
       "      <td>2403.0</td>\n",
       "    </tr>\n",
       "  </tbody>\n",
       "</table>\n",
       "</div>"
      ],
      "text/plain": [
       "   counts  TotalPrice  Average_Price  Pre_wk_orders  Pre_30_orders  Month  \\\n",
       "0   125.0     36227.9       289.8232            0.0            0.0   12.0   \n",
       "1   125.0     36227.9       289.8232            0.0            0.0   12.0   \n",
       "2   125.0     36227.9       289.8232            0.0            0.0   12.0   \n",
       "3   125.0     36227.9       289.8232            0.0            0.0   12.0   \n",
       "4   125.0     36227.9       289.8232            0.0            0.0   12.0   \n",
       "\n",
       "     Year  Day  Weeknumber  Post_30_orders  \n",
       "0  2009.0  1.0        49.0          2403.0  \n",
       "1  2009.0  1.0        49.0          2403.0  \n",
       "2  2009.0  1.0        49.0          2403.0  \n",
       "3  2009.0  1.0        49.0          2403.0  \n",
       "4  2009.0  1.0        49.0          2403.0  "
      ]
     },
     "execution_count": 6,
     "metadata": {},
     "output_type": "execute_result"
    }
   ],
   "source": [
    "df.head()"
   ]
  },
  {
   "cell_type": "code",
   "execution_count": 7,
   "metadata": {},
   "outputs": [],
   "source": [
    "X = ['counts', 'TotalPrice', 'Average_Price', 'Pre_wk_orders',\n",
    "       'Pre_30_orders', 'Month', 'Year', 'Day', 'Weeknumber']\n",
    "y = df.Post_30_orders       "
   ]
  },
  {
   "cell_type": "code",
   "execution_count": 8,
   "metadata": {},
   "outputs": [],
   "source": [
    "X_train, X_test, y_train, y_test = train_test_split(df.drop(columns='Post_30_orders'), \n",
    "                                                    df.Post_30_orders, test_size=0.3, \n",
    "                                                    random_state=50)\n"
   ]
  },
  {
   "cell_type": "code",
   "execution_count": 9,
   "metadata": {},
   "outputs": [
    {
     "data": {
      "text/plain": [
       "((517872, 9), (221946, 9))"
      ]
     },
     "execution_count": 9,
     "metadata": {},
     "output_type": "execute_result"
    }
   ],
   "source": [
    "X_train.shape, X_test.shape"
   ]
  },
  {
   "cell_type": "code",
   "execution_count": 10,
   "metadata": {},
   "outputs": [
    {
     "data": {
      "text/plain": [
       "((517872,), (221946,))"
      ]
     },
     "execution_count": 10,
     "metadata": {},
     "output_type": "execute_result"
    }
   ],
   "source": [
    "y_train.shape, y_test.shape"
   ]
  },
  {
   "cell_type": "code",
   "execution_count": 29,
   "metadata": {},
   "outputs": [
    {
     "name": "stdout",
     "output_type": "stream",
     "text": [
      "The R2 score of using the mean to predict Post 30 orders is: -3.258531529715114e-06\n"
     ]
    }
   ],
   "source": [
    "from sklearn.dummy import DummyRegressor\n",
    "dummy_mean = DummyRegressor()\n",
    "# \"Train\" dummy regressor\n",
    "dummy_mean.fit(X_train, y_train)\n",
    "# Get R2 score\n",
    "score_dummy = dummy_mean.score(X_test, y_test)\n",
    "print(\"The R2 score of using the mean to predict Post 30 orders is:\", score_dummy)"
   ]
  },
  {
   "cell_type": "code",
   "execution_count": 30,
   "metadata": {},
   "outputs": [],
   "source": [
    "dummy_pred = dummy_mean.predict(X_test)\n",
    "dummy_r2 = r2_score(y_test, dummy_pred)\n",
    "dummy_mse = mse(y_test, dummy_pred)\n",
    "dummy_rmse = np.sqrt(mse(y_test, dummy_pred))"
   ]
  },
  {
   "cell_type": "markdown",
   "metadata": {},
   "source": [
    "From pycaret we show that the DT's, Extra Tree's and RF's performed the best. Our initial start will be to use RF regressor"
   ]
  },
  {
   "cell_type": "code",
   "execution_count": 21,
   "metadata": {},
   "outputs": [],
   "source": [
    "# Define parameters to search for GridSearchCV\n",
    "basic_param_grid = {'n_estimators': [100, 300, 500, 900, 1200],\n",
    "              'max_depth': [3, 5, 20, 50, 100],\n",
    "              }\n",
    "# Instantiate RandomForestRegressor\n",
    "basic_rf = RandomForestRegressor(random_state=50)\n",
    "cv_rf = GridSearchCV(basic_rf, basic_param_grid, cv = 5)\n",
    "cv_rf_fit = cv_rf.fit(X_train, y_train)"
   ]
  },
  {
   "cell_type": "code",
   "execution_count": 22,
   "metadata": {},
   "outputs": [
    {
     "name": "stdout",
     "output_type": "stream",
     "text": [
      "The optimal max_depth for the RandomForestRegressor is: 50\n",
      "The optimal n_estimators for the RandomForestRegressor is: 100\n"
     ]
    }
   ],
   "source": [
    "print('The optimal max_depth for the RandomForestRegressor is: {}'.format(cv_rf_fit.best_params_['max_depth']))\n",
    "print('The optimal n_estimators for the RandomForestRegressor is: {}'.format(cv_rf_fit.best_params_['n_estimators']))"
   ]
  },
  {
   "cell_type": "code",
   "execution_count": 11,
   "metadata": {},
   "outputs": [],
   "source": [
    "# Instantiate RFR with optimal hyperparameters\n",
    "basic_rf = RandomForestRegressor(max_depth = 50, n_estimators = 300, random_state=42)\n",
    "basic_rf.fit(X_train, y_train)\n",
    "basic_rf_pred = basic_rf.predict(X_test)"
   ]
  },
  {
   "cell_type": "code",
   "execution_count": 12,
   "metadata": {},
   "outputs": [],
   "source": [
    "# Calculate evaluation metrics on basic_rf\n",
    "basic_rf_r2 = r2_score(y_test, basic_rf_pred)\n",
    "basic_rf_mse = mse(y_test, basic_rf_pred)\n",
    "basic_rf_rmse = np.sqrt(basic_rf_mse)"
   ]
  },
  {
   "cell_type": "code",
   "execution_count": 33,
   "metadata": {},
   "outputs": [
    {
     "data": {
      "text/html": [
       "<div>\n",
       "<style scoped>\n",
       "    .dataframe tbody tr th:only-of-type {\n",
       "        vertical-align: middle;\n",
       "    }\n",
       "\n",
       "    .dataframe tbody tr th {\n",
       "        vertical-align: top;\n",
       "    }\n",
       "\n",
       "    .dataframe thead th {\n",
       "        text-align: right;\n",
       "    }\n",
       "</style>\n",
       "<table border=\"1\" class=\"dataframe\">\n",
       "  <thead>\n",
       "    <tr style=\"text-align: right;\">\n",
       "      <th></th>\n",
       "      <th>Model</th>\n",
       "      <th>R2</th>\n",
       "      <th>MSE</th>\n",
       "      <th>RMSE</th>\n",
       "    </tr>\n",
       "  </thead>\n",
       "  <tbody>\n",
       "    <tr>\n",
       "      <th>0</th>\n",
       "      <td>dummy_reg</td>\n",
       "      <td>-0.000003</td>\n",
       "      <td>298991.851826</td>\n",
       "      <td>546.801474</td>\n",
       "    </tr>\n",
       "    <tr>\n",
       "      <th>1</th>\n",
       "      <td>basic_rf</td>\n",
       "      <td>1.000000</td>\n",
       "      <td>0.000000</td>\n",
       "      <td>0.000000</td>\n",
       "    </tr>\n",
       "  </tbody>\n",
       "</table>\n",
       "</div>"
      ],
      "text/plain": [
       "       Model        R2            MSE        RMSE\n",
       "0  dummy_reg -0.000003  298991.851826  546.801474\n",
       "1   basic_rf  1.000000       0.000000    0.000000"
      ]
     },
     "execution_count": 33,
     "metadata": {},
     "output_type": "execute_result"
    }
   ],
   "source": [
    "# Create RF results dataframe\n",
    "rf_results = pd.DataFrame({'Model':['dummy_reg', 'basic_rf'], 'R2': [dummy_r2, basic_rf_r2], 'MSE':[dummy_mse, basic_rf_mse], 'RMSE':[dummy_rmse, basic_rf_rmse]})\n",
    "rf_results"
   ]
  },
  {
   "cell_type": "markdown",
   "metadata": {},
   "source": [
    "### Non UK Countries"
   ]
  },
  {
   "cell_type": "code",
   "execution_count": 13,
   "metadata": {},
   "outputs": [],
   "source": [
    "X_train_nonuk, X_test_nonuk, y_train_nonuk, y_test_nonuk = train_test_split(df_nonuk.drop(columns='Post_30_orders'), \n",
    "                                                    df_nonuk.Post_30_orders, test_size=0.7, \n",
    "                                                    random_state=50)\n"
   ]
  },
  {
   "cell_type": "code",
   "execution_count": 14,
   "metadata": {},
   "outputs": [
    {
     "data": {
      "text/plain": [
       "Index(['counts', 'TotalPrice', 'Average_Price', 'Pre_wk_orders',\n",
       "       'Pre_30_orders', 'Month', 'Year', 'Day', 'Weeknumber'],\n",
       "      dtype='object')"
      ]
     },
     "execution_count": 14,
     "metadata": {},
     "output_type": "execute_result"
    }
   ],
   "source": [
    "X_train.columns"
   ]
  },
  {
   "cell_type": "code",
   "execution_count": 15,
   "metadata": {},
   "outputs": [
    {
     "data": {
      "text/plain": [
       "Index(['counts', 'TotalPrice', 'Average_Price', 'Pre_wk_orders',\n",
       "       'Pre_30_orders', 'Month', 'Year', 'Day', 'Weeknumber'],\n",
       "      dtype='object')"
      ]
     },
     "execution_count": 15,
     "metadata": {},
     "output_type": "execute_result"
    }
   ],
   "source": [
    "X_train_nonuk.columns"
   ]
  },
  {
   "cell_type": "markdown",
   "metadata": {},
   "source": [
    "Predicting the non uk countries post 30 days orders using UK model."
   ]
  },
  {
   "cell_type": "code",
   "execution_count": 16,
   "metadata": {},
   "outputs": [
    {
     "name": "stdout",
     "output_type": "stream",
     "text": [
      " r2 - -876.5735637467105 / mse - 3518495.057064919 / rmse - 1875.765192412131\n"
     ]
    }
   ],
   "source": [
    "basic_rf_pred_nonuk = basic_rf.predict(X_test_nonuk)\n",
    "# Calculate evaluation metrics on basic_rf\n",
    "basic_rf_r2_nonuk = r2_score(y_test_nonuk, basic_rf_pred_nonuk)\n",
    "basic_rf_mse_nonuk = mse(y_test_nonuk, basic_rf_pred_nonuk)\n",
    "basic_rf_rmse_nonuk = np.sqrt(basic_rf_mse_nonuk)\n",
    "\n",
    "print(\" r2 - {} / mse - {} / rmse - {}\".format(basic_rf_r2_nonuk,basic_rf_mse_nonuk,basic_rf_rmse_nonuk))"
   ]
  },
  {
   "cell_type": "code",
   "execution_count": 17,
   "metadata": {},
   "outputs": [
    {
     "data": {
      "text/plain": [
       "70257    322.0\n",
       "68966    330.0\n",
       "70743    336.0\n",
       "47406    203.0\n",
       "76543    377.0\n",
       "         ...  \n",
       "42903    203.0\n",
       "38620    210.0\n",
       "68150    326.0\n",
       "78729    254.0\n",
       "68698    328.0\n",
       "Name: Post_30_orders, Length: 57718, dtype: float64"
      ]
     },
     "execution_count": 17,
     "metadata": {},
     "output_type": "execute_result"
    }
   ],
   "source": [
    "y_test_nonuk"
   ]
  },
  {
   "cell_type": "code",
   "execution_count": 18,
   "metadata": {},
   "outputs": [
    {
     "data": {
      "text/plain": [
       "array([2370.64      , 2375.31333333, 2626.19333333, ..., 2268.26      ,\n",
       "       2347.05666667, 2268.26      ])"
      ]
     },
     "execution_count": 18,
     "metadata": {},
     "output_type": "execute_result"
    }
   ],
   "source": [
    "basic_rf_pred_nonuk"
   ]
  },
  {
   "cell_type": "markdown",
   "metadata": {},
   "source": [
    "#### Refitting the non uk model on the same RF estimators"
   ]
  },
  {
   "cell_type": "code",
   "execution_count": 19,
   "metadata": {},
   "outputs": [
    {
     "name": "stdout",
     "output_type": "stream",
     "text": [
      " r2 - 0.9999993206631594 / mse - 0.0027236956697506204 / rmse - 0.052189037831240195\n"
     ]
    }
   ],
   "source": [
    "non_uk_rf = RandomForestRegressor(max_depth = 50, n_estimators = 300, random_state=57)\n",
    "non_uk_rf.fit(X_train_nonuk,y_train_nonuk)\n",
    "y_nonuk_pred = non_uk_rf.predict(X_test_nonuk)\n",
    "# Calculate evaluation metrics on basic_rf\n",
    "rf_r2_nonuk = r2_score(y_test_nonuk, y_nonuk_pred)\n",
    "rf_mse_nonuk = mse(y_test_nonuk, y_nonuk_pred)\n",
    "rf_rmse_nonuk = np.sqrt(rf_mse_nonuk)\n",
    "\n",
    "print(\" r2 - {} / mse - {} / rmse - {}\".format(rf_r2_nonuk,rf_mse_nonuk,rf_rmse_nonuk))"
   ]
  },
  {
   "cell_type": "markdown",
   "metadata": {},
   "source": [
    "### Updating the random state"
   ]
  },
  {
   "cell_type": "code",
   "execution_count": 26,
   "metadata": {},
   "outputs": [
    {
     "name": "stdout",
     "output_type": "stream",
     "text": [
      "random_state - 42 / r2 - 1.0 / mse - 0.0 / rmse - 0.0\n",
      "random_state - 47 / r2 - 1.0 / mse - 0.0 / rmse - 0.0\n",
      "random_state - 487 / r2 - 1.0 / mse - 0.0 / rmse - 0.0\n",
      "random_state - 90 / r2 - 1.0 / mse - 0.0 / rmse - 0.0\n"
     ]
    }
   ],
   "source": [
    "lst_random = [42,47,487,90]     \n",
    "X_train, X_test, y_train, y_test = [],[],[],[]\n",
    "for i in lst_random:\n",
    "    X_train, X_test, y_train, y_test = train_test_split(df.drop(columns='Post_30_orders'), \n",
    "                                                    df.Post_30_orders, test_size=0.3, \n",
    "                                                    random_state=i)\n",
    "    y_pred = basic_rf.predict(X_test)\n",
    "    basic_rf_r2 = r2_score(y_test, y_pred)\n",
    "    basic_rf_mse = mse(y_test, y_pred)\n",
    "    basic_rf_rmse = np.sqrt(basic_rf_mse)\n",
    "    print(\"random_state - {} / r2 - {} / mse - {} / rmse - {}\".format(i,basic_rf_r2,basic_rf_mse,basic_rf_rmse))\n",
    "                                                    "
   ]
  },
  {
   "cell_type": "markdown",
   "metadata": {},
   "source": [
    "### Further evaluation"
   ]
  },
  {
   "cell_type": "markdown",
   "metadata": {},
   "source": [
    "Dropping the highly correlated columns and re-evaluate the model"
   ]
  },
  {
   "cell_type": "code",
   "execution_count": 27,
   "metadata": {},
   "outputs": [
    {
     "data": {
      "text/plain": [
       "Index(['counts', 'TotalPrice', 'Average_Price', 'Pre_wk_orders',\n",
       "       'Pre_30_orders', 'Month', 'Year', 'Day', 'Weeknumber',\n",
       "       'Post_30_orders'],\n",
       "      dtype='object')"
      ]
     },
     "execution_count": 27,
     "metadata": {},
     "output_type": "execute_result"
    }
   ],
   "source": [
    "df.columns"
   ]
  },
  {
   "cell_type": "code",
   "execution_count": 31,
   "metadata": {},
   "outputs": [],
   "source": [
    "X_train_new, X_test_new, y_train_new, y_test_new = train_test_split(df.drop(columns=['Post_30_orders','Weeknumber','Month']), \n",
    "                                                    df.Post_30_orders, test_size=0.3, \n",
    "                                                    random_state=75)"
   ]
  },
  {
   "cell_type": "code",
   "execution_count": 32,
   "metadata": {},
   "outputs": [
    {
     "data": {
      "text/plain": [
       "((518878, 7), (222377, 7))"
      ]
     },
     "execution_count": 32,
     "metadata": {},
     "output_type": "execute_result"
    }
   ],
   "source": [
    "X_train_new.shape, X_test_new.shape"
   ]
  },
  {
   "cell_type": "code",
   "execution_count": 35,
   "metadata": {},
   "outputs": [],
   "source": [
    "# Instantiate RFR with optimal hyperparameters\n",
    "new_rf = RandomForestRegressor(max_depth = 50, n_estimators = 300, random_state=95)\n",
    "new_rf.fit(X_train_new, y_train_new)\n",
    "new_rf_pred = new_rf.predict(X_test_new)"
   ]
  },
  {
   "cell_type": "code",
   "execution_count": 36,
   "metadata": {},
   "outputs": [
    {
     "name": "stdout",
     "output_type": "stream",
     "text": [
      " r2 - 1.0 / mse - 0.0 / rmse - 0.0\n"
     ]
    }
   ],
   "source": [
    "# Calculate evaluation metrics on basic_rf\n",
    "new_rf_r2 = r2_score(y_test_new, new_rf_pred)\n",
    "new_rf_mse = mse(y_test_new, new_rf_pred)\n",
    "new_rf_rmse = np.sqrt(new_rf_mse)\n",
    "\n",
    "print(\" r2 - {} / mse - {} / rmse - {}\".format(new_rf_r2,new_rf_mse,new_rf_rmse))"
   ]
  },
  {
   "cell_type": "code",
   "execution_count": 56,
   "metadata": {},
   "outputs": [],
   "source": [
    "X_train_new_1, X_test_new_1, y_train_new_1, y_test_new_1 = train_test_split(df.drop(columns=['Post_30_orders','Pre_wk_orders','counts','Weeknumber','Month','Pre_30_orders']), \n",
    "                                                    df.Post_30_orders, test_size=0.4, \n",
    "                                                    random_state=150)"
   ]
  },
  {
   "cell_type": "code",
   "execution_count": 57,
   "metadata": {},
   "outputs": [
    {
     "data": {
      "text/plain": [
       "Index(['TotalPrice', 'Average_Price', 'Year', 'Day'], dtype='object')"
      ]
     },
     "execution_count": 57,
     "metadata": {},
     "output_type": "execute_result"
    }
   ],
   "source": [
    "X_train_new_1.columns"
   ]
  },
  {
   "cell_type": "code",
   "execution_count": 59,
   "metadata": {},
   "outputs": [
    {
     "data": {
      "text/plain": [
       "Index(['TotalPrice', 'Average_Price', 'Year', 'Day'], dtype='object')"
      ]
     },
     "execution_count": 59,
     "metadata": {},
     "output_type": "execute_result"
    }
   ],
   "source": [
    "X_test_new_1.columns"
   ]
  },
  {
   "cell_type": "code",
   "execution_count": 58,
   "metadata": {},
   "outputs": [
    {
     "data": {
      "text/plain": [
       "((444753, 4), (296502, 4))"
      ]
     },
     "execution_count": 58,
     "metadata": {},
     "output_type": "execute_result"
    }
   ],
   "source": [
    "X_train_new_1.shape, X_test_new_1.shape"
   ]
  },
  {
   "cell_type": "code",
   "execution_count": 62,
   "metadata": {},
   "outputs": [
    {
     "name": "stdout",
     "output_type": "stream",
     "text": [
      " r2 - 1.0 / mse - 0.0 / rmse - 0.0\n"
     ]
    }
   ],
   "source": [
    "# Instantiate RFR with optimal hyperparameters\n",
    "new_rf1 = RandomForestRegressor(max_depth = 50, n_estimators = 300, random_state=289)\n",
    "new_rf1.fit(X_train_new_1, y_train_new_1)\n",
    "new_rf1_pred = new_rf1.predict(X_test_new_1)\n",
    "\n",
    "# Calculate evaluation metrics on new_rf\n",
    "new_rf1_r2 = r2_score(y_test_new_1, new_rf1_pred)\n",
    "new_rf1_mse = mse(y_test_new_1, new_rf1_pred)\n",
    "new_rf1_rmse = np.sqrt(new_rf1_mse)\n",
    "\n",
    "print(\" r2 - {} / mse - {} / rmse - {}\".format(new_rf1_r2,new_rf1_mse,new_rf1_rmse))"
   ]
  },
  {
   "cell_type": "code",
   "execution_count": 66,
   "metadata": {},
   "outputs": [
    {
     "name": "stdout",
     "output_type": "stream",
     "text": [
      " r2 - 0.4363820972761778 / mse - 168609.3213591989 / rmse - 410.6206538390378\n"
     ]
    }
   ],
   "source": [
    "# Instantiate GB with optimal hyperparameters\n",
    "new_gb1 = GradientBoostingRegressor(n_estimators=20, learning_rate = 0.5, max_features=2, max_depth = 2, random_state = 0)\n",
    "new_gb1.fit(X_train_new_1, y_train_new_1)\n",
    "new_gb1_pred = new_gb1.predict(X_test_new_1)\n",
    "\n",
    "# Calculate evaluation metrics on new_rf\n",
    "new_gb1_r2 = r2_score(y_test_new_1, new_gb1_pred)\n",
    "new_gb1_mse = mse(y_test_new_1, new_gb1_pred)\n",
    "new_gb1_rmse = np.sqrt(new_gb1_mse)\n",
    "\n",
    "print(\" r2 - {} / mse - {} / rmse - {}\".format(new_gb1_r2,new_gb1_mse,new_gb1_rmse))"
   ]
  },
  {
   "cell_type": "code",
   "execution_count": 50,
   "metadata": {},
   "outputs": [
    {
     "data": {
      "text/plain": [
       "644772    2775.0\n",
       "613790    2338.0\n",
       "536364    1783.0\n",
       "427440    1556.0\n",
       "586022    2125.0\n",
       "Name: Post_30_orders, dtype: float64"
      ]
     },
     "execution_count": 50,
     "metadata": {},
     "output_type": "execute_result"
    }
   ],
   "source": [
    "y_test_new.head()"
   ]
  },
  {
   "cell_type": "code",
   "execution_count": 51,
   "metadata": {},
   "outputs": [
    {
     "data": {
      "text/html": [
       "<div>\n",
       "<style scoped>\n",
       "    .dataframe tbody tr th:only-of-type {\n",
       "        vertical-align: middle;\n",
       "    }\n",
       "\n",
       "    .dataframe tbody tr th {\n",
       "        vertical-align: top;\n",
       "    }\n",
       "\n",
       "    .dataframe thead th {\n",
       "        text-align: right;\n",
       "    }\n",
       "</style>\n",
       "<table border=\"1\" class=\"dataframe\">\n",
       "  <thead>\n",
       "    <tr style=\"text-align: right;\">\n",
       "      <th></th>\n",
       "      <th>TotalPrice</th>\n",
       "      <th>Average_Price</th>\n",
       "      <th>Year</th>\n",
       "      <th>Day</th>\n",
       "    </tr>\n",
       "  </thead>\n",
       "  <tbody>\n",
       "    <tr>\n",
       "      <th>644772</th>\n",
       "      <td>30077.270</td>\n",
       "      <td>385.606026</td>\n",
       "      <td>2011.0</td>\n",
       "      <td>18.0</td>\n",
       "    </tr>\n",
       "    <tr>\n",
       "      <th>613790</th>\n",
       "      <td>26194.171</td>\n",
       "      <td>390.957776</td>\n",
       "      <td>2011.0</td>\n",
       "      <td>26.0</td>\n",
       "    </tr>\n",
       "    <tr>\n",
       "      <th>536364</th>\n",
       "      <td>36929.940</td>\n",
       "      <td>559.544545</td>\n",
       "      <td>2011.0</td>\n",
       "      <td>30.0</td>\n",
       "    </tr>\n",
       "    <tr>\n",
       "      <th>427440</th>\n",
       "      <td>12367.990</td>\n",
       "      <td>334.270000</td>\n",
       "      <td>2011.0</td>\n",
       "      <td>8.0</td>\n",
       "    </tr>\n",
       "    <tr>\n",
       "      <th>586022</th>\n",
       "      <td>26160.520</td>\n",
       "      <td>396.371515</td>\n",
       "      <td>2011.0</td>\n",
       "      <td>2.0</td>\n",
       "    </tr>\n",
       "  </tbody>\n",
       "</table>\n",
       "</div>"
      ],
      "text/plain": [
       "        TotalPrice  Average_Price    Year   Day\n",
       "644772   30077.270     385.606026  2011.0  18.0\n",
       "613790   26194.171     390.957776  2011.0  26.0\n",
       "536364   36929.940     559.544545  2011.0  30.0\n",
       "427440   12367.990     334.270000  2011.0   8.0\n",
       "586022   26160.520     396.371515  2011.0   2.0"
      ]
     },
     "execution_count": 51,
     "metadata": {},
     "output_type": "execute_result"
    }
   ],
   "source": [
    "X_test_new.head()"
   ]
  },
  {
   "cell_type": "code",
   "execution_count": 53,
   "metadata": {},
   "outputs": [
    {
     "data": {
      "text/plain": [
       "array([2775., 2338., 1783., ...,  390., 2839., 1778.])"
      ]
     },
     "execution_count": 53,
     "metadata": {},
     "output_type": "execute_result"
    }
   ],
   "source": [
    "new_rf_pred"
   ]
  },
  {
   "cell_type": "code",
   "execution_count": 54,
   "metadata": {},
   "outputs": [
    {
     "data": {
      "text/plain": [
       "644772    2775.0\n",
       "613790    2338.0\n",
       "536364    1783.0\n",
       "427440    1556.0\n",
       "586022    2125.0\n",
       "           ...  \n",
       "146825    1995.0\n",
       "345131    2839.0\n",
       "736025     390.0\n",
       "344908    2839.0\n",
       "538192    1778.0\n",
       "Name: Post_30_orders, Length: 222377, dtype: float64"
      ]
     },
     "execution_count": 54,
     "metadata": {},
     "output_type": "execute_result"
    }
   ],
   "source": [
    "y_test_new"
   ]
  },
  {
   "cell_type": "code",
   "execution_count": 69,
   "metadata": {},
   "outputs": [],
   "source": [
    "X_train_new_1, X_test_new_1, y_train_new_1, y_test_new_1 = train_test_split(df.drop(columns=['Post_30_orders','Pre_wk_orders','counts','Pre_30_orders']), \n",
    "                                                    df.counts, test_size=0.4, \n",
    "                                                    random_state=150)"
   ]
  },
  {
   "cell_type": "code",
   "execution_count": 70,
   "metadata": {},
   "outputs": [
    {
     "data": {
      "text/html": [
       "<div>\n",
       "<style scoped>\n",
       "    .dataframe tbody tr th:only-of-type {\n",
       "        vertical-align: middle;\n",
       "    }\n",
       "\n",
       "    .dataframe tbody tr th {\n",
       "        vertical-align: top;\n",
       "    }\n",
       "\n",
       "    .dataframe thead th {\n",
       "        text-align: right;\n",
       "    }\n",
       "</style>\n",
       "<table border=\"1\" class=\"dataframe\">\n",
       "  <thead>\n",
       "    <tr style=\"text-align: right;\">\n",
       "      <th></th>\n",
       "      <th>TotalPrice</th>\n",
       "      <th>Average_Price</th>\n",
       "      <th>Month</th>\n",
       "      <th>Year</th>\n",
       "      <th>Day</th>\n",
       "      <th>Weeknumber</th>\n",
       "    </tr>\n",
       "  </thead>\n",
       "  <tbody>\n",
       "    <tr>\n",
       "      <th>102370</th>\n",
       "      <td>21891.07</td>\n",
       "      <td>304.042639</td>\n",
       "      <td>4.0</td>\n",
       "      <td>2010.0</td>\n",
       "      <td>1.0</td>\n",
       "      <td>13.0</td>\n",
       "    </tr>\n",
       "    <tr>\n",
       "      <th>696545</th>\n",
       "      <td>36746.61</td>\n",
       "      <td>303.690992</td>\n",
       "      <td>11.0</td>\n",
       "      <td>2011.0</td>\n",
       "      <td>16.0</td>\n",
       "      <td>46.0</td>\n",
       "    </tr>\n",
       "    <tr>\n",
       "      <th>385183</th>\n",
       "      <td>100736.84</td>\n",
       "      <td>1343.157867</td>\n",
       "      <td>12.0</td>\n",
       "      <td>2010.0</td>\n",
       "      <td>7.0</td>\n",
       "      <td>49.0</td>\n",
       "    </tr>\n",
       "    <tr>\n",
       "      <th>703147</th>\n",
       "      <td>26558.81</td>\n",
       "      <td>282.540532</td>\n",
       "      <td>11.0</td>\n",
       "      <td>2011.0</td>\n",
       "      <td>20.0</td>\n",
       "      <td>46.0</td>\n",
       "    </tr>\n",
       "    <tr>\n",
       "      <th>729914</th>\n",
       "      <td>17335.01</td>\n",
       "      <td>293.813729</td>\n",
       "      <td>12.0</td>\n",
       "      <td>2011.0</td>\n",
       "      <td>4.0</td>\n",
       "      <td>48.0</td>\n",
       "    </tr>\n",
       "    <tr>\n",
       "      <th>...</th>\n",
       "      <td>...</td>\n",
       "      <td>...</td>\n",
       "      <td>...</td>\n",
       "      <td>...</td>\n",
       "      <td>...</td>\n",
       "      <td>...</td>\n",
       "    </tr>\n",
       "    <tr>\n",
       "      <th>482940</th>\n",
       "      <td>23915.89</td>\n",
       "      <td>341.655571</td>\n",
       "      <td>4.0</td>\n",
       "      <td>2011.0</td>\n",
       "      <td>21.0</td>\n",
       "      <td>16.0</td>\n",
       "    </tr>\n",
       "    <tr>\n",
       "      <th>97174</th>\n",
       "      <td>22548.32</td>\n",
       "      <td>375.805333</td>\n",
       "      <td>3.0</td>\n",
       "      <td>2010.0</td>\n",
       "      <td>28.0</td>\n",
       "      <td>12.0</td>\n",
       "    </tr>\n",
       "    <tr>\n",
       "      <th>262231</th>\n",
       "      <td>33662.06</td>\n",
       "      <td>340.020808</td>\n",
       "      <td>9.0</td>\n",
       "      <td>2010.0</td>\n",
       "      <td>29.0</td>\n",
       "      <td>39.0</td>\n",
       "    </tr>\n",
       "    <tr>\n",
       "      <th>459670</th>\n",
       "      <td>20700.71</td>\n",
       "      <td>414.014200</td>\n",
       "      <td>3.0</td>\n",
       "      <td>2011.0</td>\n",
       "      <td>25.0</td>\n",
       "      <td>12.0</td>\n",
       "    </tr>\n",
       "    <tr>\n",
       "      <th>725720</th>\n",
       "      <td>40602.14</td>\n",
       "      <td>261.949290</td>\n",
       "      <td>12.0</td>\n",
       "      <td>2011.0</td>\n",
       "      <td>1.0</td>\n",
       "      <td>48.0</td>\n",
       "    </tr>\n",
       "  </tbody>\n",
       "</table>\n",
       "<p>296502 rows × 6 columns</p>\n",
       "</div>"
      ],
      "text/plain": [
       "        TotalPrice  Average_Price  Month    Year   Day  Weeknumber\n",
       "102370    21891.07     304.042639    4.0  2010.0   1.0        13.0\n",
       "696545    36746.61     303.690992   11.0  2011.0  16.0        46.0\n",
       "385183   100736.84    1343.157867   12.0  2010.0   7.0        49.0\n",
       "703147    26558.81     282.540532   11.0  2011.0  20.0        46.0\n",
       "729914    17335.01     293.813729   12.0  2011.0   4.0        48.0\n",
       "...            ...            ...    ...     ...   ...         ...\n",
       "482940    23915.89     341.655571    4.0  2011.0  21.0        16.0\n",
       "97174     22548.32     375.805333    3.0  2010.0  28.0        12.0\n",
       "262231    33662.06     340.020808    9.0  2010.0  29.0        39.0\n",
       "459670    20700.71     414.014200    3.0  2011.0  25.0        12.0\n",
       "725720    40602.14     261.949290   12.0  2011.0   1.0        48.0\n",
       "\n",
       "[296502 rows x 6 columns]"
      ]
     },
     "execution_count": 70,
     "metadata": {},
     "output_type": "execute_result"
    }
   ],
   "source": [
    "X_test_new_1"
   ]
  },
  {
   "cell_type": "code",
   "execution_count": 71,
   "metadata": {},
   "outputs": [
    {
     "name": "stdout",
     "output_type": "stream",
     "text": [
      " r2 - 1.0 / mse - 0.0 / rmse - 0.0\n"
     ]
    }
   ],
   "source": [
    "# Instantiate RFR with optimal hyperparameters\n",
    "new_rf1 = RandomForestRegressor(max_depth = 50, n_estimators = 300, random_state=289)\n",
    "new_rf1.fit(X_train_new_1, y_train_new_1)\n",
    "new_rf1_pred = new_rf1.predict(X_test_new_1)\n",
    "\n",
    "# Calculate evaluation metrics on new_rf\n",
    "new_rf1_r2 = r2_score(y_test_new_1, new_rf1_pred)\n",
    "new_rf1_mse = mse(y_test_new_1, new_rf1_pred)\n",
    "new_rf1_rmse = np.sqrt(new_rf1_mse)\n",
    "\n",
    "print(\" r2 - {} / mse - {} / rmse - {}\".format(new_rf1_r2,new_rf1_mse,new_rf1_rmse))"
   ]
  },
  {
   "cell_type": "code",
   "execution_count": 74,
   "metadata": {},
   "outputs": [
    {
     "data": {
      "text/plain": [
       "102370     72.0\n",
       "696545    121.0\n",
       "385183     75.0\n",
       "703147     94.0\n",
       "729914     59.0\n",
       "Name: counts, dtype: float64"
      ]
     },
     "execution_count": 74,
     "metadata": {},
     "output_type": "execute_result"
    }
   ],
   "source": [
    "y_test_new_1"
   ]
  },
  {
   "cell_type": "code",
   "execution_count": 75,
   "metadata": {},
   "outputs": [
    {
     "data": {
      "text/plain": [
       "array([ 72., 121.,  75., ...,  99.,  50., 155.])"
      ]
     },
     "execution_count": 75,
     "metadata": {},
     "output_type": "execute_result"
    }
   ],
   "source": [
    "new_rf1_pred"
   ]
  },
  {
   "cell_type": "markdown",
   "metadata": {},
   "source": [
    "### Blending by combining the UK and Non UK model together"
   ]
  },
  {
   "cell_type": "code",
   "execution_count": 21,
   "metadata": {},
   "outputs": [
    {
     "data": {
      "text/plain": [
       "(822272, 10)"
      ]
     },
     "execution_count": 21,
     "metadata": {},
     "output_type": "execute_result"
    }
   ],
   "source": [
    "new_df = df_nonuk.append(df)\n",
    "new_df.shape"
   ]
  },
  {
   "cell_type": "code",
   "execution_count": 22,
   "metadata": {},
   "outputs": [],
   "source": [
    "X_train, X_test, y_train, y_test = train_test_split(new_df.drop(columns='Post_30_orders'), \n",
    "                                                    new_df.Post_30_orders, test_size=0.3, \n",
    "                                                    random_state=50)\n"
   ]
  },
  {
   "cell_type": "code",
   "execution_count": 23,
   "metadata": {},
   "outputs": [],
   "source": [
    "from sklearn.ensemble import VotingRegressor\n",
    "\n",
    "# Create empty lists that will storage the different weights\n",
    "weights1 = []\n",
    "weights2 = []\n",
    "scores = []\n",
    "\n",
    "# Create a loop to evaluate different combinations of weights\n",
    "for i in np.arange(0.1,1, 0.1):\n",
    "    for j in np.arange(0.1,1, 0.1):\n",
    "        clf_voting = VotingRegressor(estimators = [('ukest1',basic_rf),('nonukest2',non_uk_rf)],weights=[i,j],verbose = True,n_jobs=-1)\n",
    "        clf_voting.fit(X_train, y_train)\n",
    "        pred = clf_voting.predict(X_test)\n",
    "        score = r2_score(y_test,pred)\n",
    "        scores.append(score)\n",
    "        weights1.append(i)\n",
    "        weights2.append(j)\n",
    "\n"
   ]
  },
  {
   "cell_type": "code",
   "execution_count": 24,
   "metadata": {},
   "outputs": [],
   "source": [
    "# Save the results in a data frame\n",
    "\n",
    "test_scores = pd.DataFrame()\n",
    "test_scores['Weight1'] = weights1\n",
    "test_scores['Weight2'] = weights2\n",
    "test_scores['Test Score'] = scores\n",
    "\n",
    "# Create an additional column to save the sum of all the weights\n",
    "\n",
    "test_scores['sum_weights'] = test_scores['Weight1'].add(test_scores['Weight2'])\n",
    "\n",
    "#We are only getting the rows that the sum of all weights were equal to one\n",
    "\n",
    "condition = test_scores['sum_weights'] == 1\n",
    "\n",
    "test_scores = test_scores.loc[condition]\n"
   ]
  },
  {
   "cell_type": "code",
   "execution_count": 25,
   "metadata": {},
   "outputs": [
    {
     "data": {
      "text/html": [
       "<div>\n",
       "<style scoped>\n",
       "    .dataframe tbody tr th:only-of-type {\n",
       "        vertical-align: middle;\n",
       "    }\n",
       "\n",
       "    .dataframe tbody tr th {\n",
       "        vertical-align: top;\n",
       "    }\n",
       "\n",
       "    .dataframe thead th {\n",
       "        text-align: right;\n",
       "    }\n",
       "</style>\n",
       "<table border=\"1\" class=\"dataframe\">\n",
       "  <thead>\n",
       "    <tr style=\"text-align: right;\">\n",
       "      <th></th>\n",
       "      <th>Weight1</th>\n",
       "      <th>Weight2</th>\n",
       "      <th>Test Score</th>\n",
       "      <th>sum_weights</th>\n",
       "    </tr>\n",
       "  </thead>\n",
       "  <tbody>\n",
       "    <tr>\n",
       "      <th>8</th>\n",
       "      <td>0.1</td>\n",
       "      <td>0.9</td>\n",
       "      <td>1.0</td>\n",
       "      <td>1.0</td>\n",
       "    </tr>\n",
       "    <tr>\n",
       "      <th>16</th>\n",
       "      <td>0.2</td>\n",
       "      <td>0.8</td>\n",
       "      <td>1.0</td>\n",
       "      <td>1.0</td>\n",
       "    </tr>\n",
       "    <tr>\n",
       "      <th>24</th>\n",
       "      <td>0.3</td>\n",
       "      <td>0.7</td>\n",
       "      <td>1.0</td>\n",
       "      <td>1.0</td>\n",
       "    </tr>\n",
       "    <tr>\n",
       "      <th>32</th>\n",
       "      <td>0.4</td>\n",
       "      <td>0.6</td>\n",
       "      <td>1.0</td>\n",
       "      <td>1.0</td>\n",
       "    </tr>\n",
       "    <tr>\n",
       "      <th>40</th>\n",
       "      <td>0.5</td>\n",
       "      <td>0.5</td>\n",
       "      <td>1.0</td>\n",
       "      <td>1.0</td>\n",
       "    </tr>\n",
       "    <tr>\n",
       "      <th>48</th>\n",
       "      <td>0.6</td>\n",
       "      <td>0.4</td>\n",
       "      <td>1.0</td>\n",
       "      <td>1.0</td>\n",
       "    </tr>\n",
       "    <tr>\n",
       "      <th>56</th>\n",
       "      <td>0.7</td>\n",
       "      <td>0.3</td>\n",
       "      <td>1.0</td>\n",
       "      <td>1.0</td>\n",
       "    </tr>\n",
       "    <tr>\n",
       "      <th>64</th>\n",
       "      <td>0.8</td>\n",
       "      <td>0.2</td>\n",
       "      <td>1.0</td>\n",
       "      <td>1.0</td>\n",
       "    </tr>\n",
       "    <tr>\n",
       "      <th>72</th>\n",
       "      <td>0.9</td>\n",
       "      <td>0.1</td>\n",
       "      <td>1.0</td>\n",
       "      <td>1.0</td>\n",
       "    </tr>\n",
       "  </tbody>\n",
       "</table>\n",
       "</div>"
      ],
      "text/plain": [
       "    Weight1  Weight2  Test Score  sum_weights\n",
       "8       0.1      0.9         1.0          1.0\n",
       "16      0.2      0.8         1.0          1.0\n",
       "24      0.3      0.7         1.0          1.0\n",
       "32      0.4      0.6         1.0          1.0\n",
       "40      0.5      0.5         1.0          1.0\n",
       "48      0.6      0.4         1.0          1.0\n",
       "56      0.7      0.3         1.0          1.0\n",
       "64      0.8      0.2         1.0          1.0\n",
       "72      0.9      0.1         1.0          1.0"
      ]
     },
     "execution_count": 25,
     "metadata": {},
     "output_type": "execute_result"
    }
   ],
   "source": [
    "test_scores"
   ]
  },
  {
   "cell_type": "code",
   "execution_count": 26,
   "metadata": {},
   "outputs": [],
   "source": [
    "# Create the Voting Classifier with the most equally weighted because all models performed similarly\n",
    "\n",
    "clf_voting = VotingRegressor(estimators = [('ukest1',basic_rf),('nonukest2',non_uk_rf)],verbose = True,n_jobs=-1, weights = [0.1, 0.9])\n",
    "\n",
    "#Fit and predict\n",
    "\n",
    "clf_voting.fit(X_train, y_train)\n",
    "pred_voting = clf_voting.predict(X_test)"
   ]
  },
  {
   "cell_type": "code",
   "execution_count": 27,
   "metadata": {},
   "outputs": [
    {
     "name": "stdout",
     "output_type": "stream",
     "text": [
      "Score - 0.9999999999995045\n"
     ]
    }
   ],
   "source": [
    "score = r2_score(y_test,pred_voting)\n",
    "print(\"Score - {}\".format(score))"
   ]
  },
  {
   "cell_type": "code",
   "execution_count": 28,
   "metadata": {},
   "outputs": [
    {
     "name": "stdout",
     "output_type": "stream",
     "text": [
      "0.9999999993761246\n"
     ]
    }
   ],
   "source": [
    "non_uk_pred_clf =  clf_voting.predict(X_test_nonuk)\n",
    "nonuk_score = r2_score(non_uk_pred_clf,y_test_nonuk)\n",
    "print(nonuk_score)"
   ]
  },
  {
   "cell_type": "code",
   "execution_count": null,
   "metadata": {},
   "outputs": [],
   "source": []
  }
 ],
 "metadata": {
  "interpreter": {
   "hash": "ba497f245e46cb05b3a0e0d97f033c41eced3dd6d67577311158664bed0781ff"
  },
  "kernelspec": {
   "display_name": "Python 3.7.11 64-bit ('base': conda)",
   "language": "python",
   "name": "python3"
  },
  "language_info": {
   "codemirror_mode": {
    "name": "ipython",
    "version": 3
   },
   "file_extension": ".py",
   "mimetype": "text/x-python",
   "name": "python",
   "nbconvert_exporter": "python",
   "pygments_lexer": "ipython3",
   "version": "3.7.11"
  },
  "orig_nbformat": 4
 },
 "nbformat": 4,
 "nbformat_minor": 2
}
